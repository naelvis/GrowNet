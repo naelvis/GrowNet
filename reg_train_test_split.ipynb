{
 "cells": [
  {
   "cell_type": "code",
   "execution_count": 1,
   "metadata": {},
   "outputs": [],
   "source": [
    "from sklearn import datasets\n",
    "from sklearn.model_selection import train_test_split\n",
    "import numpy as np\n",
    "import pandas as pd\n",
    "import xgboost as xgb\n",
    "\n",
    "datapath = r'./Regression/data'"
   ]
  },
  {
   "cell_type": "markdown",
   "metadata": {},
   "source": [
    "## datwTestTrainSplit data split"
   ]
  },
  {
   "cell_type": "code",
   "execution_count": 46,
   "metadata": {},
   "outputs": [],
   "source": [
    "# Load the data: slice_localization\n",
    "df = pd.read_csv(datapath+'/datwTestTrainSplit.csv')"
   ]
  },
  {
   "cell_type": "code",
   "execution_count": 47,
   "metadata": {},
   "outputs": [],
   "source": [
    "list_of_features = [\n",
    "    \"claim_no\",\n",
    "    \"occurrence_time\", \n",
    "    \"notidel\", \n",
    "    \"development_period\", \n",
    "    \"pmt_no\",\n",
    "    \"log1_paid_cumulative\",\n",
    "    \"max_paid_dev_factor\",\n",
    "    \"min_paid_dev_factor\",\n",
    "]\n",
    "output_field = [\"claim_size\"]\n",
    "youtput=\"claim_size\"\n",
    "\n",
    "# Only take training subsection, we save the TEST part for the final final final validation\n",
    "df = df.query('train_ind == 1')\n",
    "\n",
    "# Only consider relevant columns\n",
    "df = df.filter(items = list_of_features + [youtput])"
   ]
  },
  {
   "cell_type": "code",
   "execution_count": 48,
   "metadata": {},
   "outputs": [
    {
     "data": {
      "text/html": [
       "<div>\n",
       "<style scoped>\n",
       "    .dataframe tbody tr th:only-of-type {\n",
       "        vertical-align: middle;\n",
       "    }\n",
       "\n",
       "    .dataframe tbody tr th {\n",
       "        vertical-align: top;\n",
       "    }\n",
       "\n",
       "    .dataframe thead th {\n",
       "        text-align: right;\n",
       "    }\n",
       "</style>\n",
       "<table border=\"1\" class=\"dataframe\">\n",
       "  <thead>\n",
       "    <tr style=\"text-align: right;\">\n",
       "      <th></th>\n",
       "      <th>claim_no</th>\n",
       "      <th>occurrence_time</th>\n",
       "      <th>notidel</th>\n",
       "      <th>development_period</th>\n",
       "      <th>pmt_no</th>\n",
       "      <th>log1_paid_cumulative</th>\n",
       "      <th>max_paid_dev_factor</th>\n",
       "      <th>min_paid_dev_factor</th>\n",
       "      <th>claim_size</th>\n",
       "    </tr>\n",
       "  </thead>\n",
       "  <tbody>\n",
       "    <tr>\n",
       "      <th>0</th>\n",
       "      <td>1</td>\n",
       "      <td>0.734094</td>\n",
       "      <td>0.658094</td>\n",
       "      <td>1</td>\n",
       "      <td>0.0</td>\n",
       "      <td>0.000000</td>\n",
       "      <td>0.0</td>\n",
       "      <td>0.0</td>\n",
       "      <td>232310.088225</td>\n",
       "    </tr>\n",
       "    <tr>\n",
       "      <th>1</th>\n",
       "      <td>1</td>\n",
       "      <td>0.734094</td>\n",
       "      <td>0.658094</td>\n",
       "      <td>2</td>\n",
       "      <td>0.0</td>\n",
       "      <td>0.000000</td>\n",
       "      <td>0.0</td>\n",
       "      <td>0.0</td>\n",
       "      <td>232310.088225</td>\n",
       "    </tr>\n",
       "    <tr>\n",
       "      <th>2</th>\n",
       "      <td>1</td>\n",
       "      <td>0.734094</td>\n",
       "      <td>0.658094</td>\n",
       "      <td>3</td>\n",
       "      <td>0.0</td>\n",
       "      <td>0.000000</td>\n",
       "      <td>0.0</td>\n",
       "      <td>0.0</td>\n",
       "      <td>232310.088225</td>\n",
       "    </tr>\n",
       "    <tr>\n",
       "      <th>3</th>\n",
       "      <td>1</td>\n",
       "      <td>0.734094</td>\n",
       "      <td>0.658094</td>\n",
       "      <td>4</td>\n",
       "      <td>0.0</td>\n",
       "      <td>0.000000</td>\n",
       "      <td>0.0</td>\n",
       "      <td>0.0</td>\n",
       "      <td>232310.088225</td>\n",
       "    </tr>\n",
       "    <tr>\n",
       "      <th>4</th>\n",
       "      <td>1</td>\n",
       "      <td>0.734094</td>\n",
       "      <td>0.658094</td>\n",
       "      <td>5</td>\n",
       "      <td>1.0</td>\n",
       "      <td>9.490041</td>\n",
       "      <td>0.0</td>\n",
       "      <td>0.0</td>\n",
       "      <td>232310.088225</td>\n",
       "    </tr>\n",
       "  </tbody>\n",
       "</table>\n",
       "</div>"
      ],
      "text/plain": [
       "   claim_no  occurrence_time   notidel  development_period  pmt_no  \\\n",
       "0         1         0.734094  0.658094                   1     0.0   \n",
       "1         1         0.734094  0.658094                   2     0.0   \n",
       "2         1         0.734094  0.658094                   3     0.0   \n",
       "3         1         0.734094  0.658094                   4     0.0   \n",
       "4         1         0.734094  0.658094                   5     1.0   \n",
       "\n",
       "   log1_paid_cumulative  max_paid_dev_factor  min_paid_dev_factor  \\\n",
       "0              0.000000                  0.0                  0.0   \n",
       "1              0.000000                  0.0                  0.0   \n",
       "2              0.000000                  0.0                  0.0   \n",
       "3              0.000000                  0.0                  0.0   \n",
       "4              9.490041                  0.0                  0.0   \n",
       "\n",
       "      claim_size  \n",
       "0  232310.088225  \n",
       "1  232310.088225  \n",
       "2  232310.088225  \n",
       "3  232310.088225  \n",
       "4  232310.088225  "
      ]
     },
     "execution_count": 48,
     "metadata": {},
     "output_type": "execute_result"
    }
   ],
   "source": [
    "df.head(5)"
   ]
  },
  {
   "cell_type": "code",
   "execution_count": 55,
   "metadata": {},
   "outputs": [
    {
     "name": "stdout",
     "output_type": "stream",
     "text": [
      "[   1    2    3 ... 3661 3662 3663] 3663\n",
      "[   4    9   14   19   24   29   34   39   44   49   54   59   64   69\n",
      "   74   79   84   89   94   99  104  109  114  119  124  129  134  139\n",
      "  144  149  154  159  164  169  174  179  184  189  194  199  204  209\n",
      "  214  219  224  229  234  239  244  249  254  259  264  269  274  279\n",
      "  284  289  294  299  304  309  314  319  324  329  334  339  344  349\n",
      "  354  359  364  369  374  379  384  389  394  399  404  409  414  419\n",
      "  424  429  434  439  444  449  454  459  464  469  474  479  484  489\n",
      "  494  499  504  509  514  519  524  529  534  539  544  549  554  559\n",
      "  564  569  574  579  584  589  594  599  604  609  614  619  624  629\n",
      "  634  639  644  649  654  659  664  669  674  679  684  689  694  699\n",
      "  704  709  714  719  724  729  734  739  744  749  754  759  764  769\n",
      "  774  779  784  789  794  799  804  809  814  819  824  829  834  839\n",
      "  844  849  854  859  864  869  874  879  884  889  894  899  904  909\n",
      "  914  919  924  929  934  939  944  949  954  959  964  969  974  979\n",
      "  984  989  994  999 1004 1009 1014 1019 1024 1029 1034 1039 1044 1049\n",
      " 1054 1059 1064 1069 1074 1079 1084 1089 1094 1099 1104 1109 1114 1119\n",
      " 1124 1129 1134 1139 1144 1149 1154 1159 1164 1169 1174 1179 1184 1189\n",
      " 1194 1199 1204 1209 1214 1219 1224 1229 1234 1239 1244 1249 1254 1259\n",
      " 1264 1269 1274 1279 1284 1289 1294 1299 1304 1309 1314 1319 1324 1329\n",
      " 1334 1339 1344 1349 1354 1359 1364 1369 1374 1379 1384 1389 1394 1399\n",
      " 1404 1409 1414 1419 1424 1429 1434 1439 1444 1449 1454 1459 1464 1469\n",
      " 1474 1479 1484 1489 1494 1499 1504 1509 1514 1519 1524 1529 1534 1539\n",
      " 1544 1549 1554 1559 1564 1569 1574 1579 1584 1589 1594 1599 1604 1609\n",
      " 1614 1619 1624 1629 1634 1639 1644 1649 1654 1659 1664 1669 1674 1679\n",
      " 1684 1689 1694 1699 1704 1709 1714 1719 1724 1729 1734 1739 1744 1749\n",
      " 1754 1759 1764 1769 1774 1779 1784 1789 1794 1799 1804 1809 1814 1819\n",
      " 1824 1829 1834 1839 1844 1849 1854 1859 1864 1869 1874 1879 1884 1889\n",
      " 1894 1899 1904 1909 1914 1919 1924 1929 1934 1939 1944 1949 1954 1959\n",
      " 1964 1969 1974 1979 1984 1989 1994 1999 2004 2009 2014 2019 2024 2029\n",
      " 2034 2039 2044 2049 2054 2059 2064 2069 2074 2079 2084 2089 2094 2099\n",
      " 2104 2109 2114 2119 2124 2129 2134 2139 2144 2149 2154 2159 2164 2169\n",
      " 2174 2179 2184 2189 2194 2199 2204 2209 2214 2219 2224 2229 2234 2239\n",
      " 2244 2249 2254 2259 2264 2269 2274 2279 2284 2289 2294 2299 2304 2309\n",
      " 2314 2319 2324 2329 2334 2339 2344 2349 2354 2359 2364 2369 2374 2379\n",
      " 2384 2389 2394 2399 2404 2409 2414 2419 2424 2429 2434 2439 2444 2449\n",
      " 2454 2459 2464 2469 2474 2479 2484 2489 2494 2499 2504 2509 2514 2519\n",
      " 2524 2529 2534 2539 2544 2549 2554 2559 2564 2569 2574 2579 2584 2589\n",
      " 2594 2599 2604 2609 2614 2619 2624 2629 2634 2639 2644 2649 2654 2659\n",
      " 2664 2669 2674 2679 2684 2689 2694 2699 2704 2709 2714 2719 2724 2729\n",
      " 2734 2739 2744 2749 2754 2759 2764 2769 2774 2779 2784 2789 2794 2799\n",
      " 2804 2809 2814 2819 2824 2829 2834 2839 2844 2849 2854 2859 2864 2869\n",
      " 2874 2879 2884 2889 2894 2899 2904 2909 2914 2919 2924 2929 2934 2939\n",
      " 2944 2949 2954 2959 2964 2969 2974 2979 2984 2989 2994 2999 3004 3009\n",
      " 3014 3019 3024 3029 3034 3039 3044 3049 3054 3059 3064 3069 3074 3079\n",
      " 3084 3089 3094 3099 3104 3109 3114 3119 3124 3129 3134 3139 3144 3149\n",
      " 3154 3159 3164 3169 3174 3179 3184 3189 3194 3199 3204 3209 3214 3219\n",
      " 3224 3229 3234 3239 3244 3249 3254 3259 3264 3269 3274 3279 3284 3289\n",
      " 3294 3299 3304 3309 3314 3319 3324 3329 3334 3339 3344 3349 3354 3359\n",
      " 3364 3369 3374 3379 3384 3389 3394 3399 3404 3409 3414 3419 3424 3429\n",
      " 3434 3439 3444 3449 3454 3459 3464 3469 3474 3479 3484 3489 3494 3499\n",
      " 3504 3509 3514 3519 3524 3529 3534 3539 3544 3549 3554 3559 3564 3569\n",
      " 3574 3579 3584 3589 3594 3599 3604 3609 3614 3619 3624 3629 3634 3639\n",
      " 3644 3649 3654 3659]\n",
      "28560 114281\n"
     ]
    }
   ],
   "source": [
    "# Slice data train and test split: Claim no shouldn't get mixed during train and test split\n",
    "u_cno = np.unique(df['claim_no'])\n",
    "print(u_cno, len(u_cno))\n",
    "\n",
    "# 80 - 20% split based on claim_no: \n",
    "test_cnox = np.arange(1, int(len(u_cno)/5) + 1)*5 - 1\n",
    "print(test_cnox)\n",
    "test = np.where(np.isin(df['claim_no'],test_cnox))[0]\n",
    "train = np.where(~np.isin(df['claim_no'],test_cnox))[0]\n",
    "print(len(test), len(train))\n",
    "\n",
    "# old\n",
    "#train = np.where(df.train_ind)[0]\n",
    "#test = np.where(~df.train_ind)[0]"
   ]
  },
  {
   "cell_type": "code",
   "execution_count": 60,
   "metadata": {},
   "outputs": [
    {
     "name": "stdout",
     "output_type": "stream",
     "text": [
      "(114281, 8) (28560, 8)\n"
     ]
    }
   ],
   "source": [
    "X_train,  y_train = df.iloc[train, :8].values, df.iloc[train, [8]].values\n",
    "X_test,  y_test = df.iloc[test, :8].values, df.iloc[test, [8]].values\n",
    "\n",
    "print(X_train.shape, X_test.shape)"
   ]
  },
  {
   "cell_type": "code",
   "execution_count": 62,
   "metadata": {},
   "outputs": [],
   "source": [
    "# Saving train and test into csv file\n",
    "np.savez(datapath + '\\datwTestTrainSplit_tr.npz', features=X_train, labels=y_train)\n",
    "np.savez(datapath + '\\datwTestTrainSplit_te.npz', features=X_test, labels=y_test)"
   ]
  }
 ],
 "metadata": {
  "kernelspec": {
   "display_name": "Python 3",
   "language": "python",
   "name": "python3"
  },
  "language_info": {
   "codemirror_mode": {
    "name": "ipython",
    "version": 3
   },
   "file_extension": ".py",
   "mimetype": "text/x-python",
   "name": "python",
   "nbconvert_exporter": "python",
   "pygments_lexer": "ipython3",
   "version": "3.9.1"
  }
 },
 "nbformat": 4,
 "nbformat_minor": 2
}
