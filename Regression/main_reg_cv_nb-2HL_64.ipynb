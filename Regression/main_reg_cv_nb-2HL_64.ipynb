{
 "cells": [
  {
   "cell_type": "code",
   "execution_count": 2,
   "metadata": {
    "execution": {
     "iopub.execute_input": "2024-07-14T11:03:39.076751Z",
     "iopub.status.busy": "2024-07-14T11:03:39.075800Z",
     "iopub.status.idle": "2024-07-14T11:03:39.083427Z",
     "shell.execute_reply": "2024-07-14T11:03:39.082456Z",
     "shell.execute_reply.started": "2024-07-14T11:03:39.076713Z"
    }
   },
   "outputs": [],
   "source": [
    "#!/usr/bin/env python\n",
    "import numpy as np\n",
    "import pandas as pd\n",
    "import argparse\n",
    "import copy\n",
    "import torch\n",
    "import torch.nn as nn\n",
    "import joblib\n",
    "import time\n",
    "import sys\n",
    "import os\n",
    "import random\n",
    "from matplotlib import pyplot as plt\n",
    "from data.sparseloader import DataLoader\n",
    "from data.data import LibSVMData, LibCSVData, LibSVMRegData\n",
    "from data.sparse_data import LibSVMDataSp\n",
    "from models.mlp import MLP_1HL, MLP_2HL, MLP_3HL\n",
    "from models.dynamic_net import DynamicNet, ForwardType\n",
    "from sklearn.metrics import mean_squared_error\n",
    "from sklearn.preprocessing import StandardScaler, MinMaxScaler\n",
    "from torch.optim import SGD, Adam"
   ]
  },
  {
   "cell_type": "code",
   "execution_count": 3,
   "metadata": {
    "execution": {
     "iopub.execute_input": "2024-07-14T11:03:39.085208Z",
     "iopub.status.busy": "2024-07-14T11:03:39.084951Z",
     "iopub.status.idle": "2024-07-14T11:03:39.093701Z",
     "shell.execute_reply": "2024-07-14T11:03:39.092554Z",
     "shell.execute_reply.started": "2024-07-14T11:03:39.085186Z"
    }
   },
   "outputs": [],
   "source": [
    "def set_seed(seed):\n",
    "    torch.manual_seed(seed)\n",
    "    torch.cuda.manual_seed(seed)\n",
    "    torch.cuda.manual_seed_all(seed)  # if you are using multi-GPU.\n",
    "    np.random.seed(seed)\n",
    "    random.seed(seed)\n",
    "    torch.backends.cudnn.benchmark = False\n",
    "    torch.backends.cudnn.deterministic = True\n",
    "\n",
    "set_seed(42)"
   ]
  },
  {
   "cell_type": "markdown",
   "metadata": {},
   "source": [
    "# Prepare Data"
   ]
  },
  {
   "cell_type": "code",
   "execution_count": 4,
   "metadata": {
    "execution": {
     "iopub.execute_input": "2024-07-14T11:03:39.096404Z",
     "iopub.status.busy": "2024-07-14T11:03:39.095772Z",
     "iopub.status.idle": "2024-07-14T11:03:39.735104Z",
     "shell.execute_reply": "2024-07-14T11:03:39.733752Z",
     "shell.execute_reply.started": "2024-07-14T11:03:39.096368Z"
    }
   },
   "outputs": [],
   "source": [
    "df = pd.read_csv('/notebooks/GrowNet/Regression/data/datwTestTrainSplit.csv')\n",
    "\n",
    "list_of_features = [\n",
    "    \"claim_no\",\n",
    "    \"occurrence_time\", \n",
    "    \"notidel\", \n",
    "    \"development_period\", \n",
    "    \"pmt_no\",\n",
    "    \"log1_paid_cumulative\",\n",
    "    \"max_paid_dev_factor\",\n",
    "    \"min_paid_dev_factor\",\n",
    "]\n",
    "output_field = [\"claim_size\"]\n",
    "youtput=\"claim_size\""
   ]
  },
  {
   "cell_type": "code",
   "execution_count": 5,
   "metadata": {
    "execution": {
     "iopub.execute_input": "2024-07-14T11:03:39.737094Z",
     "iopub.status.busy": "2024-07-14T11:03:39.736725Z",
     "iopub.status.idle": "2024-07-14T11:03:39.815715Z",
     "shell.execute_reply": "2024-07-14T11:03:39.814526Z",
     "shell.execute_reply.started": "2024-07-14T11:03:39.737063Z"
    }
   },
   "outputs": [
    {
     "name": "stdout",
     "output_type": "stream",
     "text": [
      "2196\n"
     ]
    },
    {
     "name": "stderr",
     "output_type": "stream",
     "text": [
      "/tmp/ipykernel_43/2633011144.py:20: UserWarning: Boolean Series key will be reindexed to match DataFrame index.\n",
      "  df_train_test = df_train[df.claim_no.isin(test_cnox)].copy()\n",
      "/tmp/ipykernel_43/2633011144.py:21: UserWarning: Boolean Series key will be reindexed to match DataFrame index.\n",
      "  df_train_train = df_train[~df.claim_no.isin(test_cnox)].copy()\n"
     ]
    }
   ],
   "source": [
    "# Only take training subsection, we save the TEST part for the final final final validation\n",
    "df_train = df.query('train_ind == 1')\n",
    "df_test = df.query('train_ind == 0')\n",
    "\n",
    "# Only consider relevant columns\n",
    "df_train = df_train.filter(items = list_of_features + [youtput])\n",
    "df_test = df_test.filter(items = list_of_features + [youtput])\n",
    "\n",
    "# Extract values\n",
    "X_train, y_train = df_train.iloc[:, :8].values, df_train.iloc[:,[8]]\n",
    "X_test, y_test = df_test.iloc[:, :8].values, df_test.iloc[:,[8]]\n",
    "\n",
    "# Rebuild split\n",
    "u_cno = np.unique(df_train['claim_no'])\n",
    "print(len(u_cno))\n",
    "\n",
    "# 80 - 20% split based on claim_no: \n",
    "test_cnox = np.arange(1, int(len(u_cno)/5) + 1)*5 - 1\n",
    "\n",
    "df_train_test = df_train[df.claim_no.isin(test_cnox)].copy()\n",
    "df_train_train = df_train[~df.claim_no.isin(test_cnox)].copy()"
   ]
  },
  {
   "cell_type": "code",
   "execution_count": 6,
   "metadata": {
    "execution": {
     "iopub.execute_input": "2024-07-14T11:03:39.819191Z",
     "iopub.status.busy": "2024-07-14T11:03:39.818700Z",
     "iopub.status.idle": "2024-07-14T11:03:39.883449Z",
     "shell.execute_reply": "2024-07-14T11:03:39.882267Z",
     "shell.execute_reply.started": "2024-07-14T11:03:39.819153Z"
    }
   },
   "outputs": [],
   "source": [
    "# Saving train and test into npz file\n",
    "#np.savez('datwTestTrainSplit_train.npz', features=X_train, labels=y_train)\n",
    "np.savez('data/datwTestTrainSplit_test.npz', features=X_test, labels=y_test)"
   ]
  },
  {
   "cell_type": "markdown",
   "metadata": {},
   "source": [
    "# Load Model"
   ]
  },
  {
   "cell_type": "code",
   "execution_count": 7,
   "metadata": {
    "execution": {
     "iopub.execute_input": "2024-07-14T11:03:39.885110Z",
     "iopub.status.busy": "2024-07-14T11:03:39.884742Z",
     "iopub.status.idle": "2024-07-14T11:03:39.893398Z",
     "shell.execute_reply": "2024-07-14T11:03:39.892245Z",
     "shell.execute_reply.started": "2024-07-14T11:03:39.885076Z"
    }
   },
   "outputs": [],
   "source": [
    "class Options(object):\n",
    "    def __init__(self, feat_d, hidden_d, batch_size, normalization, \n",
    "                 num_nets, boost_rate, lr, L2, epochs_per_stage, correct_epoch,\n",
    "                 train, test, final_test, out_f) -> None:\n",
    "        self.feat_d = feat_d\n",
    "        self.hidden_d = hidden_d\n",
    "        self.sparse = False\n",
    "        self.batch_size = batch_size\n",
    "        self.normalization = normalization\n",
    "        self.tr = train\n",
    "        self.te = test\n",
    "        self.final_test = final_test\n",
    "        self.cuda = True\n",
    "        self.data = 'datwTestTrainSplit'\n",
    "        self.cv = True\n",
    "        self.num_nets = num_nets\n",
    "        self.boost_rate = boost_rate\n",
    "        self.lr = lr\n",
    "        self.L2 = L2\n",
    "        self.epochs_per_stage = epochs_per_stage\n",
    "        self.correct_epoch = correct_epoch\n",
    "        self.out_f = out_f"
   ]
  },
  {
   "cell_type": "code",
   "execution_count": 8,
   "metadata": {
    "execution": {
     "iopub.execute_input": "2024-07-14T11:03:39.895069Z",
     "iopub.status.busy": "2024-07-14T11:03:39.894808Z",
     "iopub.status.idle": "2024-07-14T11:03:39.899803Z",
     "shell.execute_reply": "2024-07-14T11:03:39.898950Z",
     "shell.execute_reply.started": "2024-07-14T11:03:39.895044Z"
    }
   },
   "outputs": [],
   "source": [
    "opt = Options(feat_d = 8, hidden_d = 64, batch_size = 2048, normalization = True, \n",
    "              num_nets = 100, boost_rate = 1.0, lr = 0.005, L2 = .0e-3,\n",
    "              epochs_per_stage = 1, correct_epoch = 1,\n",
    "              train = \"/notebooks/GrowNet/Regression/data/datwTestTrainSplit_tr.npz\", \n",
    "              test = \"/notebooks/GrowNet/Regression/data/datwTestTrainSplit_te.npz\",\n",
    "              final_test = \"/notebooks/GrowNet/Regression/data/datwTestTrainSplit_test.npz\",\n",
    "              out_f = \"/notebooks/GrowNet/Regression/ckpt/datwTestTrainSplit_cls.pth\")"
   ]
  },
  {
   "cell_type": "code",
   "execution_count": 9,
   "metadata": {
    "execution": {
     "iopub.execute_input": "2024-07-14T11:03:39.901203Z",
     "iopub.status.busy": "2024-07-14T11:03:39.900883Z",
     "iopub.status.idle": "2024-07-14T11:03:39.912438Z",
     "shell.execute_reply": "2024-07-14T11:03:39.911541Z",
     "shell.execute_reply.started": "2024-07-14T11:03:39.901170Z"
    }
   },
   "outputs": [],
   "source": [
    "def get_data():\n",
    "    if opt.data in ['ca_housing', 'ailerons', 'YearPredictionMSD', 'slice_localization', 'datwTestTrainSplit']:\n",
    "        train = LibSVMRegData(opt.tr, opt.feat_d, opt.normalization)\n",
    "        test = LibSVMRegData(opt.te, opt.feat_d, opt.normalization)\n",
    "        val = []\n",
    "        if opt.cv:\n",
    "            val = copy.deepcopy(train)\n",
    "            print('Creating Validation set! \\n')\n",
    "            indices = list(range(len(train)))\n",
    "            cut = int(len(train)*0.95)\n",
    "            np.random.shuffle(indices)\n",
    "            train_idx = indices[:cut]\n",
    "            val_idx = indices[cut:]\n",
    "\n",
    "            train.feat = train.feat[train_idx]\n",
    "            train.label = train.label[train_idx]\n",
    "            val.feat = val.feat[val_idx]\n",
    "            val.label = val.label[val_idx]\n",
    "    else:\n",
    "        pass\n",
    "\n",
    "    if opt.normalization:\n",
    "        scaler = StandardScaler()\n",
    "        scaler.fit(train.feat)\n",
    "        train.feat = scaler.transform(train.feat)\n",
    "        test.feat = scaler.transform(test.feat)\n",
    "        if opt.cv:\n",
    "            val.feat = scaler.transform(val.feat)\n",
    "        joblib.dump(scaler, './ckpt/' + opt.data +'_scaler.pkl')\n",
    "    print(f'#Train: {len(train)}, #Val: {len(val)} #Test: {len(test)}')\n",
    "    return train, test, val, indices"
   ]
  },
  {
   "cell_type": "code",
   "execution_count": 10,
   "metadata": {
    "execution": {
     "iopub.execute_input": "2024-07-14T11:03:39.914143Z",
     "iopub.status.busy": "2024-07-14T11:03:39.913759Z",
     "iopub.status.idle": "2024-07-14T11:03:40.057303Z",
     "shell.execute_reply": "2024-07-14T11:03:40.056218Z",
     "shell.execute_reply.started": "2024-07-14T11:03:39.914106Z"
    }
   },
   "outputs": [
    {
     "name": "stdout",
     "output_type": "stream",
     "text": [
      "8\n",
      "8\n",
      "Creating Validation set! \n",
      "\n",
      "#Train: 65044, #Val: 3424 #Test: 17145\n",
      "datwTestTrainSplit training and test datasets are loaded!\n"
     ]
    }
   ],
   "source": [
    "train, test, val, indices = get_data()\n",
    "N = len(train)\n",
    "print(opt.data + ' training and test datasets are loaded!')"
   ]
  },
  {
   "cell_type": "code",
   "execution_count": 11,
   "metadata": {
    "execution": {
     "iopub.execute_input": "2024-07-14T11:03:40.059683Z",
     "iopub.status.busy": "2024-07-14T11:03:40.058873Z",
     "iopub.status.idle": "2024-07-14T11:03:40.064191Z",
     "shell.execute_reply": "2024-07-14T11:03:40.063304Z",
     "shell.execute_reply.started": "2024-07-14T11:03:40.059656Z"
    }
   },
   "outputs": [],
   "source": [
    "train_loader = DataLoader(train, opt.batch_size, shuffle=False, drop_last=False, num_workers=0) \n",
    "test_loader = DataLoader(test, opt.batch_size, shuffle=False, drop_last=False, num_workers=0)\n",
    "if opt.cv:\n",
    "    val_loader = DataLoader(val, opt.batch_size, shuffle=True, drop_last=False, num_workers=0)"
   ]
  },
  {
   "cell_type": "code",
   "execution_count": 12,
   "metadata": {
    "execution": {
     "iopub.execute_input": "2024-07-14T11:03:40.067851Z",
     "iopub.status.busy": "2024-07-14T11:03:40.067436Z",
     "iopub.status.idle": "2024-07-14T11:03:40.445871Z",
     "shell.execute_reply": "2024-07-14T11:03:40.444712Z",
     "shell.execute_reply.started": "2024-07-14T11:03:40.067826Z"
    }
   },
   "outputs": [],
   "source": [
    "best_rmse = pow(10, 6)\n",
    "val_rmse = best_rmse\n",
    "best_stage = opt.num_nets-1\n",
    "c0 = np.mean(train.label)  #init_gbnn(train)\n",
    "net_ensemble = DynamicNet(c0, opt.boost_rate)\n",
    "loss_f1 = nn.MSELoss()\n",
    "loss_models = torch.zeros((opt.num_nets, 3))"
   ]
  },
  {
   "cell_type": "code",
   "execution_count": 13,
   "metadata": {
    "execution": {
     "iopub.execute_input": "2024-07-14T11:03:40.447092Z",
     "iopub.status.busy": "2024-07-14T11:03:40.446841Z",
     "iopub.status.idle": "2024-07-14T11:03:40.453639Z",
     "shell.execute_reply": "2024-07-14T11:03:40.452522Z",
     "shell.execute_reply.started": "2024-07-14T11:03:40.447070Z"
    }
   },
   "outputs": [],
   "source": [
    "def get_optim(params, lr, weight_decay):\n",
    "    optimizer = Adam(params, lr, weight_decay=weight_decay)\n",
    "    #optimizer = SGD(params, lr, weight_decay=weight_decay)\n",
    "    return optimizer"
   ]
  },
  {
   "cell_type": "code",
   "execution_count": 14,
   "metadata": {
    "execution": {
     "iopub.execute_input": "2024-07-14T11:03:40.455342Z",
     "iopub.status.busy": "2024-07-14T11:03:40.454914Z",
     "iopub.status.idle": "2024-07-14T11:03:40.464826Z",
     "shell.execute_reply": "2024-07-14T11:03:40.463005Z",
     "shell.execute_reply.started": "2024-07-14T11:03:40.455311Z"
    }
   },
   "outputs": [],
   "source": [
    "def root_mse(net_ensemble, loader):\n",
    "    loss = 0\n",
    "    total = 0\n",
    "\n",
    "    for x, y in loader:\n",
    "        if opt.cuda:\n",
    "            x = x.cuda()\n",
    "\n",
    "        with torch.no_grad():\n",
    "            _, out = net_ensemble.forward(x)\n",
    "        y = y.cpu().numpy().reshape(len(y), 1)\n",
    "        out = out.cpu().numpy().reshape(len(y), 1)\n",
    "        loss += mean_squared_error(y, out)* len(y)\n",
    "        total += len(y)\n",
    "    return np.sqrt(loss / total)"
   ]
  },
  {
   "cell_type": "code",
   "execution_count": 15,
   "metadata": {
    "execution": {
     "iopub.execute_input": "2024-07-14T11:03:40.466702Z",
     "iopub.status.busy": "2024-07-14T11:03:40.466349Z",
     "iopub.status.idle": "2024-07-14T11:15:16.170851Z",
     "shell.execute_reply": "2024-07-14T11:15:16.169489Z",
     "shell.execute_reply.started": "2024-07-14T11:03:40.466646Z"
    }
   },
   "outputs": [
    {
     "name": "stdout",
     "output_type": "stream",
     "text": [
      "Parameter containing:\n",
      "tensor(1., device='cuda:0', requires_grad=True)\n",
      "Stage - 0, training time:  2.2 sec, model MSE loss:  262742.05618, Ensemble Net MSE Loss:  0.00000\n",
      "Stage: 0  RMSE@Tr: 262729.63532, RMSE@Val: 259097.20700, RMSE@Te: 172212.10223\n",
      "Parameter containing:\n",
      "tensor(1.0564, device='cuda:0', requires_grad=True)\n",
      "Stage - 1, training time:  1.1 sec, model MSE loss:  262715.34207, Ensemble Net MSE Loss:  262656.09642\n",
      "Stage: 1  RMSE@Tr: 262649.60292, RMSE@Val: 259012.47308, RMSE@Te: 172132.97922\n",
      "Parameter containing:\n",
      "tensor(1.1123, device='cuda:0', requires_grad=True)\n",
      "Stage - 2, training time:  1.4 sec, model MSE loss:  262594.47156, Ensemble Net MSE Loss:  262471.36001\n",
      "Stage: 2  RMSE@Tr: 262456.71590, RMSE@Val: 258812.02648, RMSE@Te: 171974.45022\n",
      "Parameter containing:\n",
      "tensor(1.1680, device='cuda:0', requires_grad=True)\n",
      "Stage - 3, training time:  1.3 sec, model MSE loss:  262348.49771, Ensemble Net MSE Loss:  262176.59798\n",
      "Stage: 3  RMSE@Tr: 262154.42416, RMSE@Val: 258496.11551, RMSE@Te: 171704.33259\n",
      "Parameter containing:\n",
      "tensor(1.2233, device='cuda:0', requires_grad=True)\n",
      "Stage - 4, training time:  1.4 sec, model MSE loss:  261973.55073, Ensemble Net MSE Loss:  261730.23846\n",
      "Stage: 4  RMSE@Tr: 261639.00067, RMSE@Val: 257957.87938, RMSE@Te: 171288.22918\n",
      "Parameter containing:\n",
      "tensor(1.2784, device='cuda:0', requires_grad=True)\n",
      "Stage - 5, training time:  1.4 sec, model MSE loss:  261432.44965, Ensemble Net MSE Loss:  261093.87941\n",
      "Stage: 5  RMSE@Tr: 260856.50334, RMSE@Val: 257146.09380, RMSE@Te: 170659.64957\n",
      "Parameter containing:\n",
      "tensor(1.3333, device='cuda:0', requires_grad=True)\n",
      "Stage - 6, training time:  1.4 sec, model MSE loss:  260670.96721, Ensemble Net MSE Loss:  260216.80777\n",
      "Stage: 6  RMSE@Tr: 259934.87070, RMSE@Val: 256189.65745, RMSE@Te: 169917.30472\n",
      "Parameter containing:\n",
      "tensor(1.3880, device='cuda:0', requires_grad=True)\n",
      "Stage - 7, training time:  1.5 sec, model MSE loss:  259643.49294, Ensemble Net MSE Loss:  259030.31575\n",
      "Stage: 7  RMSE@Tr: 258750.47071, RMSE@Val: 254978.68880, RMSE@Te: 168813.12478\n",
      "Parameter containing:\n",
      "tensor(1.4427, device='cuda:0', requires_grad=True)\n",
      "Stage - 8, training time:  1.7 sec, model MSE loss:  258280.32507, Ensemble Net MSE Loss:  257499.47024\n",
      "Stage: 8  RMSE@Tr: 256835.72109, RMSE@Val: 252984.06749, RMSE@Te: 167349.26761\n",
      "Parameter containing:\n",
      "tensor(1.4972, device='cuda:0', requires_grad=True)\n",
      "Stage - 9, training time:  1.8 sec, model MSE loss:  256501.14622, Ensemble Net MSE Loss:  255513.96328\n",
      "Stage: 9  RMSE@Tr: 254761.99343, RMSE@Val: 250851.76190, RMSE@Te: 165447.87066\n",
      "Parameter containing:\n",
      "tensor(1.5517, device='cuda:0', requires_grad=True)\n",
      "Stage - 10, training time:  1.9 sec, model MSE loss:  254282.94670, Ensemble Net MSE Loss:  253037.89437\n",
      "Stage: 10  RMSE@Tr: 252282.85617, RMSE@Val: 248283.33472, RMSE@Te: 163560.78625\n",
      "Parameter containing:\n",
      "tensor(1.6060, device='cuda:0', requires_grad=True)\n",
      "Stage - 11, training time:  1.9 sec, model MSE loss:  251442.03289, Ensemble Net MSE Loss:  249946.80589\n",
      "Stage: 11  RMSE@Tr: 246858.44027, RMSE@Val: 242670.65619, RMSE@Te: 157243.29933\n",
      "Parameter containing:\n",
      "tensor(1.6603, device='cuda:0', requires_grad=True)\n",
      "Stage - 12, training time:  1.9 sec, model MSE loss:  248006.03675, Ensemble Net MSE Loss:  246259.43191\n",
      "Stage: 12  RMSE@Tr: 246476.98993, RMSE@Val: 242245.30300, RMSE@Te: 158929.95009\n",
      "Parameter containing:\n",
      "tensor(1.7144, device='cuda:0', requires_grad=True)\n",
      "Stage - 13, training time:  2.2 sec, model MSE loss:  243881.61316, Ensemble Net MSE Loss:  241700.10836\n",
      "Stage: 13  RMSE@Tr: 241000.40808, RMSE@Val: 236603.54828, RMSE@Te: 153156.02400\n",
      "Parameter containing:\n",
      "tensor(1.7686, device='cuda:0', requires_grad=True)\n",
      "Stage - 14, training time:  2.0 sec, model MSE loss:  238945.85534, Ensemble Net MSE Loss:  236379.06109\n",
      "Stage: 14  RMSE@Tr: 236342.44420, RMSE@Val: 231828.66118, RMSE@Te: 150697.83949\n",
      "Parameter containing:\n",
      "tensor(1.7954, device='cuda:0', requires_grad=True)\n",
      "Stage - 15, training time:  2.0 sec, model MSE loss:  233008.60048, Ensemble Net MSE Loss:  231529.67670\n",
      "Stage: 15  RMSE@Tr: 234763.72075, RMSE@Val: 230185.70620, RMSE@Te: 150618.09534\n",
      "Parameter containing:\n",
      "tensor(1.8222, device='cuda:0', requires_grad=True)\n",
      "Stage - 16, training time:  2.0 sec, model MSE loss:  230122.36127, Ensemble Net MSE Loss:  228136.78539\n",
      "Stage: 16  RMSE@Tr: 231755.35717, RMSE@Val: 227085.89811, RMSE@Te: 147914.01646\n",
      "Parameter containing:\n",
      "tensor(1.8490, device='cuda:0', requires_grad=True)\n",
      "Stage - 17, training time:  2.1 sec, model MSE loss:  226199.37791, Ensemble Net MSE Loss:  224572.59408\n",
      "Stage: 17  RMSE@Tr: 17207474.82797, RMSE@Val: 16402455.78959, RMSE@Te: 13060551.89695\n",
      "Parameter containing:\n",
      "tensor(1.8758, device='cuda:0', requires_grad=True)\n",
      "Stage - 18, training time:  2.6 sec, model MSE loss:  222640.00168, Ensemble Net MSE Loss:  220599.61662\n",
      "Stage: 18  RMSE@Tr: 225128.88516, RMSE@Val: 220169.37089, RMSE@Te: 143501.90823\n",
      "Parameter containing:\n",
      "tensor(1.9026, device='cuda:0', requires_grad=True)\n",
      "Stage - 19, training time:  2.4 sec, model MSE loss:  218525.39583, Ensemble Net MSE Loss:  216393.48969\n",
      "Stage: 19  RMSE@Tr: 2125590.67791, RMSE@Val: 2151562.62638, RMSE@Te: 2342950.37040\n",
      "Parameter containing:\n",
      "tensor(1.9294, device='cuda:0', requires_grad=True)\n",
      "Stage - 20, training time:  2.4 sec, model MSE loss:  214153.89325, Ensemble Net MSE Loss:  211993.07561\n",
      "Stage: 20  RMSE@Tr: 212632.02062, RMSE@Val: 206928.17508, RMSE@Te: 135070.04454\n",
      "Parameter containing:\n",
      "tensor(1.9561, device='cuda:0', requires_grad=True)\n",
      "Stage - 21, training time:  2.4 sec, model MSE loss:  209507.08804, Ensemble Net MSE Loss:  207557.32792\n",
      "Stage: 21  RMSE@Tr: 206103.71995, RMSE@Val: 199856.58734, RMSE@Te: 129865.73308\n",
      "Parameter containing:\n",
      "tensor(1.9828, device='cuda:0', requires_grad=True)\n",
      "Stage - 22, training time:  2.8 sec, model MSE loss:  205569.67874, Ensemble Net MSE Loss:  202115.16357\n",
      "Stage: 22  RMSE@Tr: 1016153.72982, RMSE@Val: 925801.37784, RMSE@Te: 127866.34930\n",
      "Parameter containing:\n",
      "tensor(2.0096, device='cuda:0', requires_grad=True)\n",
      "Stage - 23, training time:  2.9 sec, model MSE loss:  199174.71279, Ensemble Net MSE Loss:  196599.23936\n",
      "Stage: 23  RMSE@Tr: 108588065.29956, RMSE@Val: 103645557.43569, RMSE@Te: 48868662.79286\n",
      "Parameter containing:\n",
      "tensor(2.0363, device='cuda:0', requires_grad=True)\n",
      "Stage - 24, training time:  2.5 sec, model MSE loss:  193441.09478, Ensemble Net MSE Loss:  191012.44949\n",
      "Stage: 24  RMSE@Tr: 505335.40338, RMSE@Val: 179890.97486, RMSE@Te: 244797.78098\n",
      "Parameter containing:\n",
      "tensor(2.0629, device='cuda:0', requires_grad=True)\n",
      "Stage - 25, training time:  2.6 sec, model MSE loss:  187684.42420, Ensemble Net MSE Loss:  185733.29219\n",
      "Stage: 25  RMSE@Tr: 176176.21645, RMSE@Val: 168296.14796, RMSE@Te: 107723.23797\n",
      "Parameter containing:\n",
      "tensor(2.0895, device='cuda:0', requires_grad=True)\n",
      "Stage - 26, training time:  2.8 sec, model MSE loss:  182122.65197, Ensemble Net MSE Loss:  179025.47169\n",
      "Stage: 26  RMSE@Tr: 5498248391.49683, RMSE@Val: 5326299841.05391, RMSE@Te: 5711977467.24349\n",
      "Parameter containing:\n",
      "tensor(2.1161, device='cuda:0', requires_grad=True)\n",
      "Stage - 27, training time:  3.0 sec, model MSE loss:  175504.66975, Ensemble Net MSE Loss:  172928.54928\n",
      "Stage: 27  RMSE@Tr: 27784375481.95261, RMSE@Val: 27205880917.09239, RMSE@Te: 24064149072.04517\n",
      "Parameter containing:\n",
      "tensor(2.1427, device='cuda:0', requires_grad=True)\n",
      "Stage - 28, training time:  3.1 sec, model MSE loss:  169645.37593, Ensemble Net MSE Loss:  166470.08575\n",
      "Stage: 28  RMSE@Tr: 1068769143.21759, RMSE@Val: 1188923559.89382, RMSE@Te: 783393668.46550\n",
      "Parameter containing:\n",
      "tensor(2.1692, device='cuda:0', requires_grad=True)\n",
      "Stage - 29, training time:  3.4 sec, model MSE loss:  162937.06207, Ensemble Net MSE Loss:  160377.75184\n",
      "Stage: 29  RMSE@Tr: 174370.47913, RMSE@Val: 166467.76518, RMSE@Te: 107250.82170\n",
      "Parameter containing:\n",
      "tensor(2.1824, device='cuda:0', requires_grad=True)\n",
      "Stage - 30, training time:  3.1 sec, model MSE loss:  158150.90324, Ensemble Net MSE Loss:  154859.16551\n",
      "Stage: 30  RMSE@Tr: 161833.13338, RMSE@Val: 152613.75504, RMSE@Te: 97312.54391\n",
      "Parameter containing:\n",
      "tensor(2.1956, device='cuda:0', requires_grad=True)\n",
      "Stage - 31, training time:  3.6 sec, model MSE loss:  152690.26566, Ensemble Net MSE Loss:  152106.36564\n",
      "Stage: 31  RMSE@Tr: 151652.49944, RMSE@Val: 141526.27619, RMSE@Te: 90888.55576\n",
      "Parameter containing:\n",
      "tensor(2.2088, device='cuda:0', requires_grad=True)\n",
      "Stage - 32, training time:  3.5 sec, model MSE loss:  149934.11913, Ensemble Net MSE Loss:  148600.26006\n",
      "Stage: 32  RMSE@Tr: 7208829.17935, RMSE@Val: 133819.72248, RMSE@Te: 87350.19920\n",
      "Parameter containing:\n",
      "tensor(2.2220, device='cuda:0', requires_grad=True)\n",
      "Stage - 33, training time:  3.5 sec, model MSE loss:  146600.60787, Ensemble Net MSE Loss:  145557.08069\n",
      "Stage: 33  RMSE@Tr: 142490.22431, RMSE@Val: 131322.38060, RMSE@Te: 85887.59577\n",
      "Parameter containing:\n",
      "tensor(2.2351, device='cuda:0', requires_grad=True)\n",
      "Stage - 34, training time:  3.3 sec, model MSE loss:  143572.36513, Ensemble Net MSE Loss:  142869.60943\n",
      "Stage: 34  RMSE@Tr: 152459.91612, RMSE@Val: 142239.81938, RMSE@Te: 91153.68972\n",
      "Parameter containing:\n",
      "tensor(2.2481, device='cuda:0', requires_grad=True)\n",
      "Stage - 35, training time:  4.0 sec, model MSE loss:  140739.94722, Ensemble Net MSE Loss:  139925.85476\n",
      "Stage: 35  RMSE@Tr: 137063.25060, RMSE@Val: 125335.82785, RMSE@Te: 83328.01107\n",
      "Parameter containing:\n",
      "tensor(2.2610, device='cuda:0', requires_grad=True)\n",
      "Stage - 36, training time:  3.6 sec, model MSE loss:  138099.72002, Ensemble Net MSE Loss:  137707.33931\n",
      "Stage: 36  RMSE@Tr: 151616.22886, RMSE@Val: 141070.33965, RMSE@Te: 92057.83904\n",
      "Parameter containing:\n",
      "tensor(2.2738, device='cuda:0', requires_grad=True)\n",
      "Stage - 37, training time:  4.2 sec, model MSE loss:  136372.07757, Ensemble Net MSE Loss:  135675.62689\n",
      "Stage: 37  RMSE@Tr: 133348.44335, RMSE@Val: 121202.21497, RMSE@Te: 82106.13168\n",
      "Parameter containing:\n",
      "tensor(2.2864, device='cuda:0', requires_grad=True)\n",
      "Stage - 38, training time:  3.8 sec, model MSE loss:  133946.35325, Ensemble Net MSE Loss:  133567.34609\n",
      "Stage: 38  RMSE@Tr: 131251.98167, RMSE@Val: 118752.24426, RMSE@Te: 81349.92921\n",
      "Parameter containing:\n",
      "tensor(2.2987, device='cuda:0', requires_grad=True)\n",
      "Stage - 39, training time:  3.7 sec, model MSE loss:  132042.63200, Ensemble Net MSE Loss:  131911.21444\n",
      "Stage: 39  RMSE@Tr: 129899.38552, RMSE@Val: 117239.88349, RMSE@Te: 81135.36082\n",
      "Parameter containing:\n",
      "tensor(2.3102, device='cuda:0', requires_grad=True)\n",
      "Stage - 40, training time:  3.6 sec, model MSE loss:  130589.46170, Ensemble Net MSE Loss:  130683.25952\n",
      "Stage: 40  RMSE@Tr: 128731.01251, RMSE@Val: 115992.50444, RMSE@Te: 81335.21615\n",
      "Parameter containing:\n",
      "tensor(2.3204, device='cuda:0', requires_grad=True)\n",
      "Stage - 41, training time:  3.9 sec, model MSE loss:  129540.33433, Ensemble Net MSE Loss:  129841.45036\n",
      "Stage: 41  RMSE@Tr: 129261.88253, RMSE@Val: 116405.62736, RMSE@Te: 80122.64076\n",
      "Parameter containing:\n",
      "tensor(2.3282, device='cuda:0', requires_grad=True)\n",
      "Stage - 42, training time:  4.7 sec, model MSE loss:  128975.65510, Ensemble Net MSE Loss:  129265.96775\n",
      "Stage: 42  RMSE@Tr: 127957.05341, RMSE@Val: 115292.40767, RMSE@Te: 81450.48940\n",
      "Parameter containing:\n",
      "tensor(2.3335, device='cuda:0', requires_grad=True)\n",
      "Stage - 43, training time:  4.6 sec, model MSE loss:  128488.00768, Ensemble Net MSE Loss:  129577.40919\n",
      "Stage: 43  RMSE@Tr: 141632.11098, RMSE@Val: 129573.28280, RMSE@Te: 87443.97037\n",
      "Parameter containing:\n",
      "tensor(2.3369, device='cuda:0', requires_grad=True)\n",
      "Stage - 44, training time:  4.6 sec, model MSE loss:  132303.24530, Ensemble Net MSE Loss:  129002.53747\n",
      "Stage: 44  RMSE@Tr: 128565.25643, RMSE@Val: 115951.17156, RMSE@Te: 83013.50102\n",
      "Parameter containing:\n",
      "tensor(2.3384, device='cuda:0', requires_grad=True)\n",
      "Stage - 45, training time:  4.4 sec, model MSE loss:  128451.82215, Ensemble Net MSE Loss:  128375.63112\n",
      "Stage: 45  RMSE@Tr: 127916.29327, RMSE@Val: 115121.74368, RMSE@Te: 81928.36486\n",
      "Parameter containing:\n",
      "tensor(2.3395, device='cuda:0', requires_grad=True)\n",
      "Stage - 46, training time:  4.1 sec, model MSE loss:  128081.19143, Ensemble Net MSE Loss:  128270.86286\n",
      "Stage: 46  RMSE@Tr: 127699.17994, RMSE@Val: 115073.29747, RMSE@Te: 82434.18082\n",
      "Parameter containing:\n",
      "tensor(2.3404, device='cuda:0', requires_grad=True)\n",
      "Stage - 47, training time:  4.5 sec, model MSE loss:  128001.07861, Ensemble Net MSE Loss:  128195.66465\n",
      "Stage: 47  RMSE@Tr: 127719.31693, RMSE@Val: 115077.72198, RMSE@Te: 82305.86476\n",
      "Parameter containing:\n",
      "tensor(2.3415, device='cuda:0', requires_grad=True)\n",
      "Stage - 48, training time:  4.7 sec, model MSE loss:  127928.11780, Ensemble Net MSE Loss:  128140.41636\n",
      "Stage: 48  RMSE@Tr: 127945.30705, RMSE@Val: 115301.20634, RMSE@Te: 81889.52584\n",
      "Parameter containing:\n",
      "tensor(2.3423, device='cuda:0', requires_grad=True)\n",
      "Stage - 49, training time:  4.6 sec, model MSE loss:  127883.13902, Ensemble Net MSE Loss:  128081.32846\n",
      "Stage: 49  RMSE@Tr: 128020.56521, RMSE@Val: 115360.74044, RMSE@Te: 81693.48472\n",
      "Parameter containing:\n",
      "tensor(2.3431, device='cuda:0', requires_grad=True)\n",
      "Stage - 50, training time:  4.7 sec, model MSE loss:  127795.45609, Ensemble Net MSE Loss:  128054.58854\n",
      "Stage: 50  RMSE@Tr: 127074.34642, RMSE@Val: 114450.14671, RMSE@Te: 83807.91289\n",
      "Parameter containing:\n",
      "tensor(2.3440, device='cuda:0', requires_grad=True)\n",
      "Stage - 51, training time:  4.5 sec, model MSE loss:  127838.84341, Ensemble Net MSE Loss:  127970.43688\n",
      "Stage: 51  RMSE@Tr: 128366.58580, RMSE@Val: 115709.68185, RMSE@Te: 81139.64794\n",
      "Parameter containing:\n",
      "tensor(2.3451, device='cuda:0', requires_grad=True)\n",
      "Stage - 52, training time:  4.6 sec, model MSE loss:  127672.45619, Ensemble Net MSE Loss:  127921.05931\n",
      "Stage: 52  RMSE@Tr: 127555.48835, RMSE@Val: 114890.25228, RMSE@Te: 81991.27731\n",
      "Parameter containing:\n",
      "tensor(2.3460, device='cuda:0', requires_grad=True)\n",
      "Stage - 53, training time:  4.7 sec, model MSE loss:  127640.72094, Ensemble Net MSE Loss:  127862.97170\n",
      "Stage: 53  RMSE@Tr: 127440.53545, RMSE@Val: 114784.64640, RMSE@Te: 81884.17724\n",
      "Parameter containing:\n",
      "tensor(2.3466, device='cuda:0', requires_grad=True)\n",
      "Stage - 54, training time:  5.0 sec, model MSE loss:  127574.44310, Ensemble Net MSE Loss:  128072.09047\n",
      "Stage: 54  RMSE@Tr: 137159.55326, RMSE@Val: 125254.38271, RMSE@Te: 82588.85433\n",
      "Parameter containing:\n",
      "tensor(2.3472, device='cuda:0', requires_grad=True)\n",
      "Stage - 55, training time:  5.0 sec, model MSE loss:  127628.15195, Ensemble Net MSE Loss:  127818.42562\n",
      "Stage: 55  RMSE@Tr: 126874.93279, RMSE@Val: 114296.86357, RMSE@Te: 82894.41206\n",
      "Parameter containing:\n",
      "tensor(2.3477, device='cuda:0', requires_grad=True)\n",
      "Stage - 56, training time:  5.3 sec, model MSE loss:  127488.93152, Ensemble Net MSE Loss:  127748.07365\n",
      "Stage: 56  RMSE@Tr: 127612.94531, RMSE@Val: 114941.42619, RMSE@Te: 81491.64793\n",
      "Parameter containing:\n",
      "tensor(2.3484, device='cuda:0', requires_grad=True)\n",
      "Stage - 57, training time:  5.3 sec, model MSE loss:  127450.50289, Ensemble Net MSE Loss:  127697.93051\n",
      "Stage: 57  RMSE@Tr: 127352.42436, RMSE@Val: 114701.35924, RMSE@Te: 81741.28525\n",
      "Parameter containing:\n",
      "tensor(2.3490, device='cuda:0', requires_grad=True)\n",
      "Stage - 58, training time:  4.9 sec, model MSE loss:  127381.40194, Ensemble Net MSE Loss:  127663.14202\n",
      "Stage: 58  RMSE@Tr: 127022.95721, RMSE@Val: 114332.10539, RMSE@Te: 81931.50228\n",
      "Parameter containing:\n",
      "tensor(2.3497, device='cuda:0', requires_grad=True)\n",
      "Stage - 59, training time:  5.1 sec, model MSE loss:  127347.72191, Ensemble Net MSE Loss:  127607.51299\n",
      "Stage: 59  RMSE@Tr: 127894.81395, RMSE@Val: 115212.13784, RMSE@Te: 81339.30588\n",
      "Parameter containing:\n",
      "tensor(2.3501, device='cuda:0', requires_grad=True)\n",
      "Stage - 60, training time:  5.3 sec, model MSE loss:  127316.81218, Ensemble Net MSE Loss:  127367.89820\n",
      "Stage: 60  RMSE@Tr: 126701.71199, RMSE@Val: 114011.22291, RMSE@Te: 82713.29961\n",
      "Parameter containing:\n",
      "tensor(2.3505, device='cuda:0', requires_grad=True)\n",
      "Stage - 61, training time:  5.8 sec, model MSE loss:  127210.50838, Ensemble Net MSE Loss:  127320.28346\n",
      "Stage: 61  RMSE@Tr: 126628.61826, RMSE@Val: 113950.34648, RMSE@Te: 82776.40516\n",
      "Parameter containing:\n",
      "tensor(2.3509, device='cuda:0', requires_grad=True)\n",
      "Stage - 62, training time:  5.6 sec, model MSE loss:  127174.98245, Ensemble Net MSE Loss:  127319.05056\n",
      "Stage: 62  RMSE@Tr: 126406.35333, RMSE@Val: 113871.31393, RMSE@Te: 84071.50163\n",
      "Parameter containing:\n",
      "tensor(2.3512, device='cuda:0', requires_grad=True)\n",
      "Stage - 63, training time:  5.1 sec, model MSE loss:  127164.31216, Ensemble Net MSE Loss:  127277.00422\n",
      "Stage: 63  RMSE@Tr: 126776.43358, RMSE@Val: 114115.64265, RMSE@Te: 82419.43318\n",
      "Parameter containing:\n",
      "tensor(2.3515, device='cuda:0', requires_grad=True)\n",
      "Stage - 64, training time:  5.3 sec, model MSE loss:  127120.21241, Ensemble Net MSE Loss:  127234.65264\n",
      "Stage: 64  RMSE@Tr: 126611.10935, RMSE@Val: 113970.96338, RMSE@Te: 82764.04412\n",
      "Parameter containing:\n",
      "tensor(2.3521, device='cuda:0', requires_grad=True)\n",
      "Stage - 65, training time:  5.9 sec, model MSE loss:  127093.18345, Ensemble Net MSE Loss:  127351.17032\n",
      "Stage: 65  RMSE@Tr: 127415.92504, RMSE@Val: 114959.90786, RMSE@Te: 83931.96064\n",
      "Parameter containing:\n",
      "tensor(2.3522, device='cuda:0', requires_grad=True)\n",
      "Stage - 66, training time:  6.4 sec, model MSE loss:  127099.83486, Ensemble Net MSE Loss:  127290.74884\n",
      "Stage: 66  RMSE@Tr: 129648.83978, RMSE@Val: 116997.07353, RMSE@Te: 80542.22223\n",
      "Parameter containing:\n",
      "tensor(2.3526, device='cuda:0', requires_grad=True)\n",
      "Stage - 67, training time:  6.4 sec, model MSE loss:  127194.30689, Ensemble Net MSE Loss:  127195.65412\n",
      "Stage: 67  RMSE@Tr: 126376.78558, RMSE@Val: 113713.49907, RMSE@Te: 83364.72241\n",
      "Parameter containing:\n",
      "tensor(2.3529, device='cuda:0', requires_grad=True)\n",
      "Stage - 68, training time:  6.3 sec, model MSE loss:  127039.03897, Ensemble Net MSE Loss:  127150.34046\n",
      "Stage: 68  RMSE@Tr: 126545.55774, RMSE@Val: 113841.16747, RMSE@Te: 82635.67641\n",
      "Parameter containing:\n",
      "tensor(2.3532, device='cuda:0', requires_grad=True)\n",
      "Stage - 69, training time:  6.0 sec, model MSE loss:  127018.79848, Ensemble Net MSE Loss:  127095.36301\n",
      "Stage: 69  RMSE@Tr: 126240.57792, RMSE@Val: 113675.33963, RMSE@Te: 83727.19447\n",
      "Parameter containing:\n",
      "tensor(2.3535, device='cuda:0', requires_grad=True)\n",
      "Stage - 70, training time:  6.4 sec, model MSE loss:  126977.05315, Ensemble Net MSE Loss:  127120.34913\n",
      "Stage: 70  RMSE@Tr: 128491.95285, RMSE@Val: 115878.08125, RMSE@Te: 81199.74489\n",
      "Parameter containing:\n",
      "tensor(2.3538, device='cuda:0', requires_grad=True)\n",
      "Stage - 71, training time:  6.0 sec, model MSE loss:  127047.31176, Ensemble Net MSE Loss:  127050.26809\n",
      "Stage: 71  RMSE@Tr: 126418.35660, RMSE@Val: 113738.22457, RMSE@Te: 82634.94223\n",
      "Parameter containing:\n",
      "tensor(2.3542, device='cuda:0', requires_grad=True)\n",
      "Stage - 72, training time:  6.2 sec, model MSE loss:  126915.48249, Ensemble Net MSE Loss:  127016.72774\n",
      "Stage: 72  RMSE@Tr: 126395.58028, RMSE@Val: 113690.58589, RMSE@Te: 82713.64343\n",
      "Parameter containing:\n",
      "tensor(2.3546, device='cuda:0', requires_grad=True)\n",
      "Stage - 73, training time:  6.6 sec, model MSE loss:  126895.76382, Ensemble Net MSE Loss:  127003.18085\n",
      "Stage: 73  RMSE@Tr: 126298.67440, RMSE@Val: 113704.53171, RMSE@Te: 82522.90677\n",
      "Parameter containing:\n",
      "tensor(2.3549, device='cuda:0', requires_grad=True)\n",
      "Stage - 74, training time:  7.0 sec, model MSE loss:  126869.83724, Ensemble Net MSE Loss:  126946.05917\n",
      "Stage: 74  RMSE@Tr: 126250.80038, RMSE@Val: 113621.08670, RMSE@Te: 82610.41622\n",
      "Parameter containing:\n",
      "tensor(2.3550, device='cuda:0', requires_grad=True)\n",
      "Stage - 75, training time:  6.8 sec, model MSE loss:  126813.58752, Ensemble Net MSE Loss:  126832.08908\n",
      "Stage: 75  RMSE@Tr: 125984.37889, RMSE@Val: 113284.50359, RMSE@Te: 82854.66273\n",
      "Parameter containing:\n",
      "tensor(2.3552, device='cuda:0', requires_grad=True)\n",
      "Stage - 76, training time:  7.6 sec, model MSE loss:  126717.89676, Ensemble Net MSE Loss:  126793.68118\n",
      "Stage: 76  RMSE@Tr: 125952.91079, RMSE@Val: 113246.93003, RMSE@Te: 82861.17847\n",
      "Parameter containing:\n",
      "tensor(2.3554, device='cuda:0', requires_grad=True)\n",
      "Stage - 77, training time:  7.5 sec, model MSE loss:  126703.04311, Ensemble Net MSE Loss:  126778.31145\n",
      "Stage: 77  RMSE@Tr: 125901.23920, RMSE@Val: 113276.61616, RMSE@Te: 83330.20443\n",
      "Parameter containing:\n",
      "tensor(2.3556, device='cuda:0', requires_grad=True)\n",
      "Stage - 78, training time:  6.4 sec, model MSE loss:  126680.80314, Ensemble Net MSE Loss:  126764.46796\n",
      "Stage: 78  RMSE@Tr: 125911.74220, RMSE@Val: 113203.27806, RMSE@Te: 82789.22502\n",
      "Parameter containing:\n",
      "tensor(2.3558, device='cuda:0', requires_grad=True)\n",
      "Stage - 79, training time:  6.7 sec, model MSE loss:  126640.08122, Ensemble Net MSE Loss:  126742.97917\n",
      "Stage: 79  RMSE@Tr: 125897.96260, RMSE@Val: 113192.44826, RMSE@Te: 82918.97155\n",
      "Parameter containing:\n",
      "tensor(2.3560, device='cuda:0', requires_grad=True)\n",
      "Stage - 80, training time:  6.6 sec, model MSE loss:  126625.03402, Ensemble Net MSE Loss:  126754.85060\n",
      "Stage: 80  RMSE@Tr: 126987.23262, RMSE@Val: 114226.78859, RMSE@Te: 81962.57992\n",
      "Parameter containing:\n",
      "tensor(2.3562, device='cuda:0', requires_grad=True)\n",
      "Stage - 81, training time:  7.1 sec, model MSE loss:  126606.26375, Ensemble Net MSE Loss:  126701.24501\n",
      "Stage: 81  RMSE@Tr: 125810.42856, RMSE@Val: 113173.36881, RMSE@Te: 83276.49296\n",
      "Parameter containing:\n",
      "tensor(2.3564, device='cuda:0', requires_grad=True)\n",
      "Stage - 82, training time:  7.3 sec, model MSE loss:  126579.82545, Ensemble Net MSE Loss:  126662.70568\n",
      "Stage: 82  RMSE@Tr: 125818.30086, RMSE@Val: 113154.48866, RMSE@Te: 82749.03133\n",
      "Parameter containing:\n",
      "tensor(2.3566, device='cuda:0', requires_grad=True)\n",
      "Stage - 83, training time:  6.7 sec, model MSE loss:  126554.80887, Ensemble Net MSE Loss:  126688.02113\n",
      "Stage: 83  RMSE@Tr: 125828.05380, RMSE@Val: 113082.47697, RMSE@Te: 82886.28870\n",
      "Parameter containing:\n",
      "tensor(2.3568, device='cuda:0', requires_grad=True)\n",
      "Stage - 84, training time:  7.1 sec, model MSE loss:  126574.90839, Ensemble Net MSE Loss:  126652.60729\n",
      "Stage: 84  RMSE@Tr: 125800.52558, RMSE@Val: 113135.41905, RMSE@Te: 83048.01735\n",
      "Parameter containing:\n",
      "tensor(2.3570, device='cuda:0', requires_grad=True)\n",
      "Stage - 85, training time:  7.5 sec, model MSE loss:  126550.24915, Ensemble Net MSE Loss:  126630.98450\n",
      "Stage: 85  RMSE@Tr: 125759.27520, RMSE@Val: 113080.32098, RMSE@Te: 82906.75414\n",
      "Parameter containing:\n",
      "tensor(2.3573, device='cuda:0', requires_grad=True)\n",
      "Stage - 86, training time:  7.5 sec, model MSE loss:  126504.63095, Ensemble Net MSE Loss:  126604.06350\n",
      "Stage: 86  RMSE@Tr: 125730.85135, RMSE@Val: 113078.24149, RMSE@Te: 83244.46277\n",
      "Parameter containing:\n",
      "tensor(2.3575, device='cuda:0', requires_grad=True)\n",
      "Stage - 87, training time:  7.0 sec, model MSE loss:  126489.79831, Ensemble Net MSE Loss:  126566.61000\n",
      "Stage: 87  RMSE@Tr: 125709.86872, RMSE@Val: 113050.31486, RMSE@Te: 83071.17796\n",
      "Parameter containing:\n",
      "tensor(2.3577, device='cuda:0', requires_grad=True)\n",
      "Stage - 88, training time:  7.0 sec, model MSE loss:  126467.66009, Ensemble Net MSE Loss:  126561.98199\n",
      "Stage: 88  RMSE@Tr: 125643.22833, RMSE@Val: 113011.87721, RMSE@Te: 83198.45711\n",
      "Parameter containing:\n",
      "tensor(2.3580, device='cuda:0', requires_grad=True)\n",
      "Stage - 89, training time:  7.4 sec, model MSE loss:  126415.20092, Ensemble Net MSE Loss:  126548.95296\n",
      "Stage: 89  RMSE@Tr: 125697.77549, RMSE@Val: 113055.99251, RMSE@Te: 83513.51587\n",
      "Parameter containing:\n",
      "tensor(2.3581, device='cuda:0', requires_grad=True)\n",
      "Stage - 90, training time:  7.7 sec, model MSE loss:  126417.23979, Ensemble Net MSE Loss:  126442.88868\n",
      "Stage: 90  RMSE@Tr: 125644.49782, RMSE@Val: 112897.21868, RMSE@Te: 82774.47335\n",
      "Parameter containing:\n",
      "tensor(2.3582, device='cuda:0', requires_grad=True)\n",
      "Stage - 91, training time:  8.2 sec, model MSE loss:  126312.19074, Ensemble Net MSE Loss:  126410.04855\n",
      "Stage: 91  RMSE@Tr: 125655.29826, RMSE@Val: 112922.30592, RMSE@Te: 83005.72168\n",
      "Parameter containing:\n",
      "tensor(2.3583, device='cuda:0', requires_grad=True)\n",
      "Stage - 92, training time:  8.2 sec, model MSE loss:  126324.32486, Ensemble Net MSE Loss:  126423.62182\n",
      "Stage: 92  RMSE@Tr: 125735.68398, RMSE@Val: 113083.13374, RMSE@Te: 83182.01933\n",
      "Parameter containing:\n",
      "tensor(2.3584, device='cuda:0', requires_grad=True)\n",
      "Stage - 93, training time:  8.3 sec, model MSE loss:  126304.16893, Ensemble Net MSE Loss:  126378.84457\n",
      "Stage: 93  RMSE@Tr: 125608.11167, RMSE@Val: 112898.28425, RMSE@Te: 83044.25582\n",
      "Parameter containing:\n",
      "tensor(2.3585, device='cuda:0', requires_grad=True)\n",
      "Stage - 94, training time:  9.0 sec, model MSE loss:  126281.88340, Ensemble Net MSE Loss:  126384.44380\n",
      "Stage: 94  RMSE@Tr: 125665.74667, RMSE@Val: 112907.81641, RMSE@Te: 82990.40395\n",
      "Parameter containing:\n",
      "tensor(2.3586, device='cuda:0', requires_grad=True)\n",
      "Stage - 95, training time:  8.4 sec, model MSE loss:  126286.13856, Ensemble Net MSE Loss:  126370.35945\n",
      "Stage: 95  RMSE@Tr: 125646.49266, RMSE@Val: 112869.62423, RMSE@Te: 83018.44898\n",
      "Parameter containing:\n",
      "tensor(2.3587, device='cuda:0', requires_grad=True)\n",
      "Stage - 96, training time:  9.4 sec, model MSE loss:  126263.69386, Ensemble Net MSE Loss:  126347.39318\n",
      "Stage: 96  RMSE@Tr: 125580.80690, RMSE@Val: 112852.80929, RMSE@Te: 82943.01062\n",
      "Parameter containing:\n",
      "tensor(2.3588, device='cuda:0', requires_grad=True)\n",
      "Stage - 97, training time:  8.4 sec, model MSE loss:  126249.82173, Ensemble Net MSE Loss:  126343.27821\n",
      "Stage: 97  RMSE@Tr: 125558.84242, RMSE@Val: 112855.15488, RMSE@Te: 83166.02382\n",
      "Parameter containing:\n",
      "tensor(2.3589, device='cuda:0', requires_grad=True)\n",
      "Stage - 98, training time:  9.1 sec, model MSE loss:  126232.65872, Ensemble Net MSE Loss:  126322.28638\n",
      "Stage: 98  RMSE@Tr: 125583.17957, RMSE@Val: 112792.14826, RMSE@Te: 82912.60664\n",
      "Parameter containing:\n",
      "tensor(2.3590, device='cuda:0', requires_grad=True)\n",
      "Stage - 99, training time:  9.6 sec, model MSE loss:  126209.75881, Ensemble Net MSE Loss:  126301.13882\n",
      "Stage: 99  RMSE@Tr: 125739.07913, RMSE@Val: 112852.96215, RMSE@Te: 82871.53757\n",
      "Best validation stage: 98  RMSE@Tr: 125583.17969, final RMSE@Te: 82912.60938\n"
     ]
    }
   ],
   "source": [
    "for stage in range(opt.num_nets):\n",
    "    t0 = time.time()\n",
    "    model = MLP_2HL.get_model(stage, opt)  # Initialize the model_k: f_k(x), multilayer perception v2\n",
    "    if opt.cuda:\n",
    "        model.cuda()\n",
    "\n",
    "    optimizer = get_optim(model.parameters(), opt.lr, opt.L2)\n",
    "    net_ensemble.to_train() # Set the models in ensemble net to train mode\n",
    "    stage_mdlloss = []\n",
    "    for epoch in range(opt.epochs_per_stage):\n",
    "        for i, (x, y) in enumerate(train_loader):\n",
    "                \n",
    "            if opt.cuda:\n",
    "                x= x.cuda()\n",
    "                y = torch.as_tensor(y, dtype=torch.float32).cuda().view(-1, 1)\n",
    "            middle_feat, out = net_ensemble.forward(x)\n",
    "            out = torch.as_tensor(out, dtype=torch.float32).cuda().view(-1, 1)\n",
    "            grad_direction = -(out-y)\n",
    "\n",
    "            _, out = model(x, middle_feat)\n",
    "            out = torch.as_tensor(out, dtype=torch.float32).cuda().view(-1, 1)\n",
    "            loss = loss_f1(net_ensemble.boost_rate*out, grad_direction)  # T\n",
    "\n",
    "            model.zero_grad()\n",
    "            loss.backward()\n",
    "            optimizer.step()\n",
    "            stage_mdlloss.append(loss.item()*len(y))\n",
    "\n",
    "    net_ensemble.add(model)\n",
    "    sml = np.sqrt(np.sum(stage_mdlloss)/N)\n",
    "        \n",
    "    lr_scaler = 3\n",
    "    # fully-corrective step\n",
    "    stage_loss = []\n",
    "    if stage > 0:\n",
    "        # Adjusting corrective step learning rate \n",
    "        if stage % 15 == 0:\n",
    "            #lr_scaler *= 2\n",
    "            opt.lr /= 2\n",
    "            opt.L2 /= 2\n",
    "        optimizer = get_optim(net_ensemble.parameters(), opt.lr / lr_scaler, opt.L2)\n",
    "        for _ in range(opt.correct_epoch):\n",
    "            stage_loss = []\n",
    "            for i, (x, y) in enumerate(train_loader):\n",
    "                if opt.cuda:\n",
    "                    x, y = x.cuda(), y.cuda().view(-1, 1)\n",
    "                _, out = net_ensemble.forward_grad(x)\n",
    "                out = torch.as_tensor(out, dtype=torch.float32).cuda().view(-1, 1)\n",
    "                    \n",
    "                loss = loss_f1(out, y) \n",
    "                optimizer.zero_grad()\n",
    "                loss.backward()\n",
    "                optimizer.step()\n",
    "                stage_loss.append(loss.item()*len(y))\n",
    "    print(net_ensemble.boost_rate)\n",
    "    # store model\n",
    "    elapsed_tr = time.time()-t0\n",
    "    sl = 0\n",
    "    if stage_loss != []:\n",
    "        sl = np.sqrt(np.sum(stage_loss)/N)\n",
    "\n",
    "    print(f'Stage - {stage}, training time: {elapsed_tr: .1f} sec, model MSE loss: {sml: .5f}, Ensemble Net MSE Loss: {sl: .5f}')\n",
    "\n",
    "    net_ensemble.to_file(opt.out_f)\n",
    "    net_ensemble = DynamicNet.from_file(opt.out_f, lambda stage: MLP_2HL.get_model(stage, opt))\n",
    "\n",
    "    if opt.cuda:\n",
    "        net_ensemble.to_cuda()\n",
    "    net_ensemble.to_eval() # Set the models in ensemble net to eval mode\n",
    "\n",
    "    # Train\n",
    "    tr_rmse  = root_mse(net_ensemble, train_loader)\n",
    "    if opt.cv:\n",
    "        val_rmse = root_mse(net_ensemble, val_loader) \n",
    "        if val_rmse < best_rmse:\n",
    "            best_rmse = val_rmse\n",
    "            best_stage = stage\n",
    "\n",
    "    te_rmse  = root_mse(net_ensemble, test_loader)\n",
    "\n",
    "    print(f'Stage: {stage}  RMSE@Tr: {tr_rmse:.5f}, RMSE@Val: {val_rmse:.5f}, RMSE@Te: {te_rmse:.5f}')\n",
    "\n",
    "    loss_models[stage, 0], loss_models[stage, 1] = tr_rmse, te_rmse\n",
    "\n",
    "tr_rmse, te_rmse = loss_models[best_stage, 0], loss_models[best_stage, 1]\n",
    "print(f'Best validation stage: {best_stage}  RMSE@Tr: {tr_rmse:.5f}, final RMSE@Te: {te_rmse:.5f}')\n",
    "loss_models = loss_models.detach().cpu().numpy()\n",
    "fname =  './results/' + opt.data +'_rmse'\n",
    "np.savez(fname, rmse=loss_models, params=opt) "
   ]
  },
  {
   "cell_type": "code",
   "execution_count": 16,
   "metadata": {
    "execution": {
     "iopub.execute_input": "2024-07-14T11:15:16.172749Z",
     "iopub.status.busy": "2024-07-14T11:15:16.172167Z",
     "iopub.status.idle": "2024-07-14T11:15:16.565648Z",
     "shell.execute_reply": "2024-07-14T11:15:16.564882Z",
     "shell.execute_reply.started": "2024-07-14T11:15:16.172709Z"
    }
   },
   "outputs": [],
   "source": [
    "net_ensemble = DynamicNet.from_file(opt.out_f, lambda stage: MLP_2HL.get_model(stage, opt))"
   ]
  },
  {
   "cell_type": "markdown",
   "metadata": {},
   "source": [
    "# Compute RMSE"
   ]
  },
  {
   "cell_type": "code",
   "execution_count": 17,
   "metadata": {
    "execution": {
     "iopub.execute_input": "2024-07-14T11:15:16.569220Z",
     "iopub.status.busy": "2024-07-14T11:15:16.568898Z",
     "iopub.status.idle": "2024-07-14T11:15:16.626700Z",
     "shell.execute_reply": "2024-07-14T11:15:16.625930Z",
     "shell.execute_reply.started": "2024-07-14T11:15:16.569196Z"
    }
   },
   "outputs": [],
   "source": [
    "if opt.cuda:\n",
    "        net_ensemble.to_cuda()\n",
    "net_ensemble.to_eval()"
   ]
  },
  {
   "cell_type": "code",
   "execution_count": 18,
   "metadata": {
    "execution": {
     "iopub.execute_input": "2024-07-14T11:15:16.627825Z",
     "iopub.status.busy": "2024-07-14T11:15:16.627615Z",
     "iopub.status.idle": "2024-07-14T11:15:19.618195Z",
     "shell.execute_reply": "2024-07-14T11:15:19.617439Z",
     "shell.execute_reply.started": "2024-07-14T11:15:16.627804Z"
    }
   },
   "outputs": [],
   "source": [
    "out_test = torch.empty(0)\n",
    "\n",
    "for x, y in test_loader:\n",
    "    \n",
    "    if opt.cuda:\n",
    "            x = x.cuda()\n",
    "            out_test = out_test.cuda()\n",
    "    with torch.no_grad():\n",
    "            _, out_tmp = net_ensemble.forward(x)\n",
    "    out_test = torch.cat([out_test, out_tmp])\n",
    "\n",
    "out_train = torch.empty(0)\n",
    "\n",
    "for x, y in train_loader:\n",
    "    \n",
    "    if opt.cuda:\n",
    "            x = x.cuda()\n",
    "            out_train = out_train.cuda()\n",
    "    with torch.no_grad():\n",
    "            _, out_tmp = net_ensemble.forward(x)\n",
    "    out_train = torch.cat([out_train, out_tmp])\n",
    "    \n",
    "if opt.cv:\n",
    "    \n",
    "    out_val = torch.empty(0)\n",
    "    \n",
    "    for x, y in val_loader:\n",
    "    \n",
    "        if opt.cuda:\n",
    "                x = x.cuda()\n",
    "                out_val = out_val.cuda()\n",
    "        with torch.no_grad():\n",
    "                _, out_tmp = net_ensemble.forward(x)\n",
    "        out_val = torch.cat([out_val, out_tmp])"
   ]
  },
  {
   "cell_type": "markdown",
   "metadata": {},
   "source": [
    "# Create results dataset"
   ]
  },
  {
   "cell_type": "code",
   "execution_count": 20,
   "metadata": {
    "execution": {
     "iopub.execute_input": "2024-07-14T11:36:47.922551Z",
     "iopub.status.busy": "2024-07-14T11:36:47.921260Z",
     "iopub.status.idle": "2024-07-14T11:36:47.957854Z",
     "shell.execute_reply": "2024-07-14T11:36:47.956849Z",
     "shell.execute_reply.started": "2024-07-14T11:36:47.922485Z"
    }
   },
   "outputs": [],
   "source": [
    "cut = int(len(indices)*0.95)\n",
    "train_idx = indices[:cut]\n",
    "val_idx = indices[cut:]\n",
    "\n",
    "df_train_val = df_train_train.copy().iloc[val_idx]\n",
    "df_train_train = df_train_train.iloc[train_idx]"
   ]
  },
  {
   "cell_type": "code",
   "execution_count": 21,
   "metadata": {
    "execution": {
     "iopub.execute_input": "2024-07-14T11:36:49.449993Z",
     "iopub.status.busy": "2024-07-14T11:36:49.449684Z",
     "iopub.status.idle": "2024-07-14T11:36:49.489455Z",
     "shell.execute_reply": "2024-07-14T11:36:49.488190Z",
     "shell.execute_reply.started": "2024-07-14T11:36:49.449968Z"
    }
   },
   "outputs": [],
   "source": [
    "df_train_test.loc[:,'claim_size_predicted'] = out_test.cpu().numpy().flatten()\n",
    "df_train_train.loc[:,'claim_size_predicted'] = out_train.cpu().numpy().flatten()\n",
    "df_train_val.loc[:,'claim_size_predicted'] = out_val.cpu().numpy().flatten()\n",
    "\n",
    "df_train_test.loc[:,'train_ind'] = True\n",
    "df_train_train.loc[:,'train_ind'] = True\n",
    "df_train_val.loc[:,'train_ind'] = True\n",
    "df_train = pd.concat([df_train_test, df_train_train, df_train_val])"
   ]
  },
  {
   "cell_type": "code",
   "execution_count": 22,
   "metadata": {
    "execution": {
     "iopub.execute_input": "2024-07-14T11:36:50.511248Z",
     "iopub.status.busy": "2024-07-14T11:36:50.510460Z",
     "iopub.status.idle": "2024-07-14T11:36:50.517264Z",
     "shell.execute_reply": "2024-07-14T11:36:50.515902Z",
     "shell.execute_reply.started": "2024-07-14T11:36:50.511219Z"
    }
   },
   "outputs": [],
   "source": [
    "def get_test_data():\n",
    "    if opt.data in ['ca_housing', 'ailerons', 'YearPredictionMSD', 'slice_localization', 'datwTestTrainSplit']:\n",
    "        test = LibSVMRegData(opt.final_test, opt.feat_d, opt.normalization)\n",
    "\n",
    "    if opt.normalization:\n",
    "        scaler = joblib.load('/notebooks/GrowNet/Regression/ckpt/datwTestTrainSplit_scaler.pkl')\n",
    "        test.feat = scaler.transform(test.feat)\n",
    "        print(f'#Final Test: {len(test)}')\n",
    "    return test"
   ]
  },
  {
   "cell_type": "code",
   "execution_count": 23,
   "metadata": {
    "execution": {
     "iopub.execute_input": "2024-07-14T11:36:51.492505Z",
     "iopub.status.busy": "2024-07-14T11:36:51.492035Z",
     "iopub.status.idle": "2024-07-14T11:36:51.520619Z",
     "shell.execute_reply": "2024-07-14T11:36:51.519626Z",
     "shell.execute_reply.started": "2024-07-14T11:36:51.492468Z"
    }
   },
   "outputs": [
    {
     "name": "stdout",
     "output_type": "stream",
     "text": [
      "8\n",
      "#Final Test: 57228\n"
     ]
    }
   ],
   "source": [
    "final_test = get_test_data()\n",
    "final_test_loader = DataLoader(final_test, opt.batch_size, shuffle=False, drop_last=False, num_workers=0) "
   ]
  },
  {
   "cell_type": "code",
   "execution_count": null,
   "metadata": {},
   "outputs": [],
   "source": [
    "root_mse(net_ensemble, final_test_loader)"
   ]
  },
  {
   "cell_type": "code",
   "execution_count": 24,
   "metadata": {
    "execution": {
     "iopub.execute_input": "2024-07-14T11:36:53.005588Z",
     "iopub.status.busy": "2024-07-14T11:36:53.005159Z",
     "iopub.status.idle": "2024-07-14T11:36:55.159206Z",
     "shell.execute_reply": "2024-07-14T11:36:55.158051Z",
     "shell.execute_reply.started": "2024-07-14T11:36:53.005552Z"
    }
   },
   "outputs": [],
   "source": [
    "out_final_test = torch.empty(0)\n",
    "\n",
    "for x, y in final_test_loader:\n",
    "    \n",
    "    if opt.cuda:\n",
    "            x = x.cuda()\n",
    "            out_final_test = out_final_test.cuda()\n",
    "    with torch.no_grad():\n",
    "            _, out_tmp = net_ensemble.forward(x)\n",
    "    out_final_test = torch.cat([out_final_test, out_tmp])"
   ]
  },
  {
   "cell_type": "code",
   "execution_count": 25,
   "metadata": {
    "execution": {
     "iopub.execute_input": "2024-07-14T11:37:04.487994Z",
     "iopub.status.busy": "2024-07-14T11:37:04.487125Z",
     "iopub.status.idle": "2024-07-14T11:37:04.494267Z",
     "shell.execute_reply": "2024-07-14T11:37:04.493239Z",
     "shell.execute_reply.started": "2024-07-14T11:37:04.487956Z"
    }
   },
   "outputs": [],
   "source": [
    "df_test.loc[:,'claim_size_predicted'] = out_final_test.cpu().numpy().flatten()\n",
    "df_test.loc[:,'train_ind'] = False"
   ]
  },
  {
   "cell_type": "code",
   "execution_count": 26,
   "metadata": {
    "execution": {
     "iopub.execute_input": "2024-07-14T11:37:05.726484Z",
     "iopub.status.busy": "2024-07-14T11:37:05.726179Z",
     "iopub.status.idle": "2024-07-14T11:37:05.749468Z",
     "shell.execute_reply": "2024-07-14T11:37:05.748526Z",
     "shell.execute_reply.started": "2024-07-14T11:37:05.726459Z"
    }
   },
   "outputs": [
    {
     "data": {
      "text/html": [
       "<div>\n",
       "<style scoped>\n",
       "    .dataframe tbody tr th:only-of-type {\n",
       "        vertical-align: middle;\n",
       "    }\n",
       "\n",
       "    .dataframe tbody tr th {\n",
       "        vertical-align: top;\n",
       "    }\n",
       "\n",
       "    .dataframe thead th {\n",
       "        text-align: right;\n",
       "    }\n",
       "</style>\n",
       "<table border=\"1\" class=\"dataframe\">\n",
       "  <thead>\n",
       "    <tr style=\"text-align: right;\">\n",
       "      <th></th>\n",
       "      <th>claim_no</th>\n",
       "      <th>occurrence_time</th>\n",
       "      <th>notidel</th>\n",
       "      <th>development_period</th>\n",
       "      <th>pmt_no</th>\n",
       "      <th>log1_paid_cumulative</th>\n",
       "      <th>max_paid_dev_factor</th>\n",
       "      <th>min_paid_dev_factor</th>\n",
       "      <th>claim_size</th>\n",
       "      <th>claim_size_predicted</th>\n",
       "      <th>train_ind</th>\n",
       "    </tr>\n",
       "  </thead>\n",
       "  <tbody>\n",
       "    <tr>\n",
       "      <th>0</th>\n",
       "      <td>1</td>\n",
       "      <td>0.734094</td>\n",
       "      <td>0.658094</td>\n",
       "      <td>1</td>\n",
       "      <td>0.0</td>\n",
       "      <td>0.000000</td>\n",
       "      <td>0.0</td>\n",
       "      <td>0.0</td>\n",
       "      <td>232310.088225</td>\n",
       "      <td>192644.468750</td>\n",
       "      <td>False</td>\n",
       "    </tr>\n",
       "    <tr>\n",
       "      <th>1</th>\n",
       "      <td>1</td>\n",
       "      <td>0.734094</td>\n",
       "      <td>0.658094</td>\n",
       "      <td>2</td>\n",
       "      <td>0.0</td>\n",
       "      <td>0.000000</td>\n",
       "      <td>0.0</td>\n",
       "      <td>0.0</td>\n",
       "      <td>232310.088225</td>\n",
       "      <td>220433.062500</td>\n",
       "      <td>False</td>\n",
       "    </tr>\n",
       "    <tr>\n",
       "      <th>2</th>\n",
       "      <td>1</td>\n",
       "      <td>0.734094</td>\n",
       "      <td>0.658094</td>\n",
       "      <td>3</td>\n",
       "      <td>0.0</td>\n",
       "      <td>0.000000</td>\n",
       "      <td>0.0</td>\n",
       "      <td>0.0</td>\n",
       "      <td>232310.088225</td>\n",
       "      <td>255575.828125</td>\n",
       "      <td>False</td>\n",
       "    </tr>\n",
       "    <tr>\n",
       "      <th>3</th>\n",
       "      <td>1</td>\n",
       "      <td>0.734094</td>\n",
       "      <td>0.658094</td>\n",
       "      <td>4</td>\n",
       "      <td>0.0</td>\n",
       "      <td>0.000000</td>\n",
       "      <td>0.0</td>\n",
       "      <td>0.0</td>\n",
       "      <td>232310.088225</td>\n",
       "      <td>290352.062500</td>\n",
       "      <td>False</td>\n",
       "    </tr>\n",
       "    <tr>\n",
       "      <th>4</th>\n",
       "      <td>1</td>\n",
       "      <td>0.734094</td>\n",
       "      <td>0.658094</td>\n",
       "      <td>5</td>\n",
       "      <td>1.0</td>\n",
       "      <td>9.490041</td>\n",
       "      <td>0.0</td>\n",
       "      <td>0.0</td>\n",
       "      <td>232310.088225</td>\n",
       "      <td>313037.562500</td>\n",
       "      <td>False</td>\n",
       "    </tr>\n",
       "  </tbody>\n",
       "</table>\n",
       "</div>"
      ],
      "text/plain": [
       "   claim_no  occurrence_time   notidel  development_period  pmt_no  \\\n",
       "0         1         0.734094  0.658094                   1     0.0   \n",
       "1         1         0.734094  0.658094                   2     0.0   \n",
       "2         1         0.734094  0.658094                   3     0.0   \n",
       "3         1         0.734094  0.658094                   4     0.0   \n",
       "4         1         0.734094  0.658094                   5     1.0   \n",
       "\n",
       "   log1_paid_cumulative  max_paid_dev_factor  min_paid_dev_factor  \\\n",
       "0              0.000000                  0.0                  0.0   \n",
       "1              0.000000                  0.0                  0.0   \n",
       "2              0.000000                  0.0                  0.0   \n",
       "3              0.000000                  0.0                  0.0   \n",
       "4              9.490041                  0.0                  0.0   \n",
       "\n",
       "      claim_size  claim_size_predicted  train_ind  \n",
       "0  232310.088225         192644.468750      False  \n",
       "1  232310.088225         220433.062500      False  \n",
       "2  232310.088225         255575.828125      False  \n",
       "3  232310.088225         290352.062500      False  \n",
       "4  232310.088225         313037.562500      False  "
      ]
     },
     "execution_count": 26,
     "metadata": {},
     "output_type": "execute_result"
    }
   ],
   "source": [
    "df_test.head()"
   ]
  },
  {
   "cell_type": "code",
   "execution_count": 27,
   "metadata": {
    "execution": {
     "iopub.execute_input": "2024-07-14T11:37:07.127566Z",
     "iopub.status.busy": "2024-07-14T11:37:07.126581Z",
     "iopub.status.idle": "2024-07-14T11:37:07.353919Z",
     "shell.execute_reply": "2024-07-14T11:37:07.352356Z",
     "shell.execute_reply.started": "2024-07-14T11:37:07.127535Z"
    }
   },
   "outputs": [],
   "source": [
    "df_complete = pd.concat([df_train,df_test])\n",
    "df_complete['occurrence_period'] = df_complete['occurrence_time'].apply(lambda x : np.ceil(x))"
   ]
  },
  {
   "cell_type": "markdown",
   "metadata": {},
   "source": [
    "# Visualization"
   ]
  },
  {
   "cell_type": "code",
   "execution_count": 28,
   "metadata": {
    "execution": {
     "iopub.execute_input": "2024-07-14T11:37:09.148097Z",
     "iopub.status.busy": "2024-07-14T11:37:09.147235Z",
     "iopub.status.idle": "2024-07-14T11:37:09.157405Z",
     "shell.execute_reply": "2024-07-14T11:37:09.156521Z",
     "shell.execute_reply.started": "2024-07-14T11:37:09.148070Z"
    }
   },
   "outputs": [],
   "source": [
    "# Diagnostic model subplots\n",
    "# We will be repeating this logic across multiple models, so put logic into function for repeatability\n",
    "\n",
    "#COULD PLOT MEAN OR SUM\n",
    "\n",
    "def make_model_subplots(df):\n",
    "    fig, axes = plt.subplots(3, 2, sharex='all', sharey='all', figsize=(15, 15))\n",
    "\n",
    "    (df\n",
    "        .loc[lambda df: df.train_ind]\n",
    "        .groupby([\"occurrence_period\"])\n",
    "        .agg({youtput: \"mean\", \"claim_size_predicted\": \"mean\"})\n",
    "    ).plot(ax=axes[0,0], logy=True)\n",
    "    axes[0,0].title.set_text(\"Train, Occur\")\n",
    "\n",
    "    (df\n",
    "        .loc[lambda df: df.train_ind]\n",
    "        .groupby([\"development_period\"])\n",
    "        .agg({youtput: \"mean\", \"claim_size_predicted\": \"mean\"})\n",
    "    ).plot(ax=axes[0,1], logy=True)\n",
    "    axes[0,1].title.set_text(\"Train, Dev\")\n",
    "\n",
    "    (df\n",
    "        .loc[lambda df: ~df.train_ind]\n",
    "        .groupby([\"occurrence_period\"])\n",
    "        .agg({youtput: \"mean\", \"claim_size_predicted\": \"mean\"})\n",
    "    ).plot(ax=axes[1,0], logy=True)\n",
    "    axes[1,0].title.set_text(\"Test, Occ\")\n",
    "\n",
    "    (df\n",
    "        .loc[lambda df: ~df.train_ind]\n",
    "        .groupby([\"development_period\"])\n",
    "        .agg({youtput: \"mean\", \"claim_size_predicted\": \"mean\"})\n",
    "    ).plot(ax=axes[1,1], logy=True)\n",
    "    axes[1,1].title.set_text(\"Test, Dev\")\n",
    "\n",
    "    (df\n",
    "        .groupby([\"occurrence_period\"])\n",
    "        .agg({youtput: \"mean\", \"claim_size_predicted\": \"mean\"})\n",
    "    ).plot(ax=axes[2,0], logy=True)\n",
    "    axes[2,0].title.set_text(\"All, Occ\")\n",
    "\n",
    "    (df\n",
    "        .groupby([\"development_period\"])\n",
    "        .agg({youtput: \"mean\", \"claim_size_predicted\": \"mean\"})\n",
    "    ).plot(ax=axes[2,1], logy=True)\n",
    "    axes[2,1].title.set_text(\"All, Dev\")"
   ]
  },
  {
   "cell_type": "code",
   "execution_count": 29,
   "metadata": {
    "execution": {
     "iopub.execute_input": "2024-07-14T11:37:10.670763Z",
     "iopub.status.busy": "2024-07-14T11:37:10.669966Z",
     "iopub.status.idle": "2024-07-14T11:37:13.688386Z",
     "shell.execute_reply": "2024-07-14T11:37:13.687381Z",
     "shell.execute_reply.started": "2024-07-14T11:37:10.670723Z"
    }
   },
   "outputs": [
    {
     "data": {
      "image/png": "[encoded data removed]",
      "text/plain": [
       "<Figure size 1500x1500 with 6 Axes>"
      ]
     },
     "metadata": {},
     "output_type": "display_data"
    }
   ],
   "source": [
    "make_model_subplots(df_complete)"
   ]
  },
  {
   "cell_type": "markdown",
   "metadata": {},
   "source": [
    "# Load results from training"
   ]
  },
  {
   "cell_type": "code",
   "execution_count": 30,
   "metadata": {
    "execution": {
     "iopub.execute_input": "2024-07-14T11:37:23.706170Z",
     "iopub.status.busy": "2024-07-14T11:37:23.704851Z",
     "iopub.status.idle": "2024-07-14T11:37:23.713375Z",
     "shell.execute_reply": "2024-07-14T11:37:23.711597Z",
     "shell.execute_reply.started": "2024-07-14T11:37:23.706103Z"
    }
   },
   "outputs": [],
   "source": [
    "training_results = np.load('/notebooks/GrowNet/Regression/results/datwTestTrainSplit_rmse.npz',\n",
    "                           allow_pickle = True)"
   ]
  },
  {
   "cell_type": "code",
   "execution_count": 31,
   "metadata": {
    "execution": {
     "iopub.execute_input": "2024-07-14T11:37:24.338069Z",
     "iopub.status.busy": "2024-07-14T11:37:24.337133Z",
     "iopub.status.idle": "2024-07-14T11:37:24.350198Z",
     "shell.execute_reply": "2024-07-14T11:37:24.349279Z",
     "shell.execute_reply.started": "2024-07-14T11:37:24.338029Z"
    }
   },
   "outputs": [
    {
     "data": {
      "text/plain": [
       "array([[2.62729625e+05, 1.72212109e+05, 0.00000000e+00],\n",
       "       [2.62649594e+05, 1.72132984e+05, 0.00000000e+00],\n",
       "       [2.62456719e+05, 1.71974453e+05, 0.00000000e+00],\n",
       "       [2.62154438e+05, 1.71704328e+05, 0.00000000e+00],\n",
       "       [2.61639000e+05, 1.71288234e+05, 0.00000000e+00],\n",
       "       [2.60856500e+05, 1.70659656e+05, 0.00000000e+00],\n",
       "       [2.59934875e+05, 1.69917312e+05, 0.00000000e+00],\n",
       "       [2.58750469e+05, 1.68813125e+05, 0.00000000e+00],\n",
       "       [2.56835719e+05, 1.67349266e+05, 0.00000000e+00],\n",
       "       [2.54762000e+05, 1.65447875e+05, 0.00000000e+00],\n",
       "       [2.52282859e+05, 1.63560781e+05, 0.00000000e+00],\n",
       "       [2.46858438e+05, 1.57243297e+05, 0.00000000e+00],\n",
       "       [2.46476984e+05, 1.58929953e+05, 0.00000000e+00],\n",
       "       [2.41000406e+05, 1.53156031e+05, 0.00000000e+00],\n",
       "       [2.36342438e+05, 1.50697844e+05, 0.00000000e+00],\n",
       "       [2.34763719e+05, 1.50618094e+05, 0.00000000e+00],\n",
       "       [2.31755359e+05, 1.47914016e+05, 0.00000000e+00],\n",
       "       [1.72074740e+07, 1.30605520e+07, 0.00000000e+00],\n",
       "       [2.25128891e+05, 1.43501906e+05, 0.00000000e+00],\n",
       "       [2.12559075e+06, 2.34295025e+06, 0.00000000e+00],\n",
       "       [2.12632016e+05, 1.35070047e+05, 0.00000000e+00],\n",
       "       [2.06103719e+05, 1.29865734e+05, 0.00000000e+00],\n",
       "       [1.01615375e+06, 1.27866352e+05, 0.00000000e+00],\n",
       "       [1.08588064e+08, 4.88686640e+07, 0.00000000e+00],\n",
       "       [5.05335406e+05, 2.44797781e+05, 0.00000000e+00],\n",
       "       [1.76176219e+05, 1.07723234e+05, 0.00000000e+00],\n",
       "       [5.49824819e+09, 5.71197747e+09, 0.00000000e+00],\n",
       "       [2.77843763e+10, 2.40641495e+10, 0.00000000e+00],\n",
       "       [1.06876915e+09, 7.83393664e+08, 0.00000000e+00],\n",
       "       [1.74370484e+05, 1.07250820e+05, 0.00000000e+00],\n",
       "       [1.61833141e+05, 9.73125469e+04, 0.00000000e+00],\n",
       "       [1.51652500e+05, 9.08885547e+04, 0.00000000e+00],\n",
       "       [7.20882900e+06, 8.73501953e+04, 0.00000000e+00],\n",
       "       [1.42490219e+05, 8.58875938e+04, 0.00000000e+00],\n",
       "       [1.52459922e+05, 9.11536875e+04, 0.00000000e+00],\n",
       "       [1.37063250e+05, 8.33280078e+04, 0.00000000e+00],\n",
       "       [1.51616234e+05, 9.20578359e+04, 0.00000000e+00],\n",
       "       [1.33348438e+05, 8.21061328e+04, 0.00000000e+00],\n",
       "       [1.31251984e+05, 8.13499297e+04, 0.00000000e+00],\n",
       "       [1.29899383e+05, 8.11353594e+04, 0.00000000e+00],\n",
       "       [1.28731016e+05, 8.13352188e+04, 0.00000000e+00],\n",
       "       [1.29261883e+05, 8.01226406e+04, 0.00000000e+00],\n",
       "       [1.27957055e+05, 8.14504922e+04, 0.00000000e+00],\n",
       "       [1.41632109e+05, 8.74439688e+04, 0.00000000e+00],\n",
       "       [1.28565258e+05, 8.30135000e+04, 0.00000000e+00],\n",
       "       [1.27916297e+05, 8.19283672e+04, 0.00000000e+00],\n",
       "       [1.27699180e+05, 8.24341797e+04, 0.00000000e+00],\n",
       "       [1.27719320e+05, 8.23058672e+04, 0.00000000e+00],\n",
       "       [1.27945305e+05, 8.18895234e+04, 0.00000000e+00],\n",
       "       [1.28020562e+05, 8.16934844e+04, 0.00000000e+00],\n",
       "       [1.27074344e+05, 8.38079141e+04, 0.00000000e+00],\n",
       "       [1.28366586e+05, 8.11396484e+04, 0.00000000e+00],\n",
       "       [1.27555492e+05, 8.19912734e+04, 0.00000000e+00],\n",
       "       [1.27440539e+05, 8.18841797e+04, 0.00000000e+00],\n",
       "       [1.37159547e+05, 8.25888516e+04, 0.00000000e+00],\n",
       "       [1.26874930e+05, 8.28944141e+04, 0.00000000e+00],\n",
       "       [1.27612945e+05, 8.14916484e+04, 0.00000000e+00],\n",
       "       [1.27352422e+05, 8.17412891e+04, 0.00000000e+00],\n",
       "       [1.27022961e+05, 8.19315000e+04, 0.00000000e+00],\n",
       "       [1.27894812e+05, 8.13393047e+04, 0.00000000e+00],\n",
       "       [1.26701711e+05, 8.27132969e+04, 0.00000000e+00],\n",
       "       [1.26628617e+05, 8.27764062e+04, 0.00000000e+00],\n",
       "       [1.26406352e+05, 8.40715000e+04, 0.00000000e+00],\n",
       "       [1.26776430e+05, 8.24194297e+04, 0.00000000e+00],\n",
       "       [1.26611109e+05, 8.27640469e+04, 0.00000000e+00],\n",
       "       [1.27415922e+05, 8.39319609e+04, 0.00000000e+00],\n",
       "       [1.29648836e+05, 8.05422188e+04, 0.00000000e+00],\n",
       "       [1.26376789e+05, 8.33647188e+04, 0.00000000e+00],\n",
       "       [1.26545555e+05, 8.26356797e+04, 0.00000000e+00],\n",
       "       [1.26240578e+05, 8.37271953e+04, 0.00000000e+00],\n",
       "       [1.28491953e+05, 8.11997422e+04, 0.00000000e+00],\n",
       "       [1.26418359e+05, 8.26349453e+04, 0.00000000e+00],\n",
       "       [1.26395578e+05, 8.27136406e+04, 0.00000000e+00],\n",
       "       [1.26298672e+05, 8.25229062e+04, 0.00000000e+00],\n",
       "       [1.26250797e+05, 8.26104141e+04, 0.00000000e+00],\n",
       "       [1.25984375e+05, 8.28546641e+04, 0.00000000e+00],\n",
       "       [1.25952914e+05, 8.28611797e+04, 0.00000000e+00],\n",
       "       [1.25901242e+05, 8.33302031e+04, 0.00000000e+00],\n",
       "       [1.25911742e+05, 8.27892266e+04, 0.00000000e+00],\n",
       "       [1.25897961e+05, 8.29189688e+04, 0.00000000e+00],\n",
       "       [1.26987234e+05, 8.19625781e+04, 0.00000000e+00],\n",
       "       [1.25810430e+05, 8.32764922e+04, 0.00000000e+00],\n",
       "       [1.25818305e+05, 8.27490312e+04, 0.00000000e+00],\n",
       "       [1.25828055e+05, 8.28862891e+04, 0.00000000e+00],\n",
       "       [1.25800523e+05, 8.30480156e+04, 0.00000000e+00],\n",
       "       [1.25759273e+05, 8.29067578e+04, 0.00000000e+00],\n",
       "       [1.25730852e+05, 8.32444609e+04, 0.00000000e+00],\n",
       "       [1.25709867e+05, 8.30711797e+04, 0.00000000e+00],\n",
       "       [1.25643227e+05, 8.31984609e+04, 0.00000000e+00],\n",
       "       [1.25697773e+05, 8.35135156e+04, 0.00000000e+00],\n",
       "       [1.25644500e+05, 8.27744766e+04, 0.00000000e+00],\n",
       "       [1.25655297e+05, 8.30057188e+04, 0.00000000e+00],\n",
       "       [1.25735688e+05, 8.31820156e+04, 0.00000000e+00],\n",
       "       [1.25608109e+05, 8.30442578e+04, 0.00000000e+00],\n",
       "       [1.25665750e+05, 8.29904062e+04, 0.00000000e+00],\n",
       "       [1.25646492e+05, 8.30184453e+04, 0.00000000e+00],\n",
       "       [1.25580805e+05, 8.29430078e+04, 0.00000000e+00],\n",
       "       [1.25558844e+05, 8.31660234e+04, 0.00000000e+00],\n",
       "       [1.25583180e+05, 8.29126094e+04, 0.00000000e+00],\n",
       "       [1.25739078e+05, 8.28715391e+04, 0.00000000e+00]], dtype=float32)"
      ]
     },
     "execution_count": 31,
     "metadata": {},
     "output_type": "execute_result"
    }
   ],
   "source": [
    "training_results['rmse']"
   ]
  },
  {
   "cell_type": "code",
   "execution_count": null,
   "metadata": {},
   "outputs": [],
   "source": []
  },
  {
   "cell_type": "code",
   "execution_count": null,
   "metadata": {},
   "outputs": [],
   "source": []
  },
  {
   "cell_type": "code",
   "execution_count": null,
   "metadata": {},
   "outputs": [],
   "source": []
  }
 ],
 "metadata": {
  "kernelspec": {
   "display_name": "Python 3 (ipykernel)",
   "language": "python",
   "name": "python3"
  },
  "language_info": {
   "codemirror_mode": {
    "name": "ipython",
    "version": 3
   },
   "file_extension": ".py",
   "mimetype": "text/x-python",
   "name": "python",
   "nbconvert_exporter": "python",
   "pygments_lexer": "ipython3",
   "version": "3.11.7"
  }
 },
 "nbformat": 4,
 "nbformat_minor": 4
}
