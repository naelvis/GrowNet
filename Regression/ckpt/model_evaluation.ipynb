{
 "cells": [
  {
   "cell_type": "code",
   "execution_count": 1,
   "metadata": {},
   "outputs": [],
   "source": [
    "#!/usr/bin/env python\n",
    "import numpy as np\n",
    "import pandas as pd\n",
    "import argparse\n",
    "import copy\n",
    "import torch\n",
    "import torch.nn as nn\n",
    "import time\n",
    "import sys\n",
    "import os\n",
    "from eval_sparseloader import DataLoader\n",
    "from eval_data import LibSVMData, LibCSVData, LibSVMRegData\n",
    "from eval_sparse_data import LibSVMDataSp\n",
    "sys.path.append('/Users/nelvis/Documents/R/GrowNet/Regression')\n",
    "from models.mlp import MLP_1HL, MLP_2HL, MLP_3HL\n",
    "from models.dynamic_net import DynamicNet, ForwardType\n",
    "from sklearn.metrics import mean_squared_error\n",
    "from sklearn.preprocessing import StandardScaler, MinMaxScaler\n",
    "from torch.optim import SGD, Adam"
   ]
  },
  {
   "cell_type": "markdown",
   "metadata": {},
   "source": [
    "# Prepare Data"
   ]
  },
  {
   "cell_type": "code",
   "execution_count": 2,
   "metadata": {},
   "outputs": [],
   "source": [
    "df = pd.read_csv('/Users/nelvis/Documents/R/GrowNet/Regression/data/datwTestTrainSplit.csv')\n",
    "\n",
    "list_of_features = [\n",
    "    \"claim_no\",\n",
    "    \"occurrence_time\", \n",
    "    \"notidel\", \n",
    "    \"development_period\", \n",
    "    \"pmt_no\",\n",
    "    \"log1_paid_cumulative\",\n",
    "    \"max_paid_dev_factor\",\n",
    "    \"min_paid_dev_factor\",\n",
    "]\n",
    "output_field = [\"claim_size\"]\n",
    "youtput=\"claim_size\""
   ]
  },
  {
   "cell_type": "code",
   "execution_count": 79,
   "metadata": {},
   "outputs": [],
   "source": [
    "# Only take training subsection, we save the TEST part for the final final final validation\n",
    "df_train = df.query('train_ind == 1')\n",
    "df_test = df.query('train_ind == 0')\n",
    "df_one = df.head(1)\n",
    "\n",
    "# Only consider relevant columns\n",
    "df_train = df_train.filter(items = list_of_features + [youtput])\n",
    "df_test = df_test.filter(items = list_of_features + [youtput])\n",
    "df_one = df_one.filter(items = list_of_features + [youtput])\n",
    "\n",
    "# Extract values\n",
    "X_train, y_train = df_train.iloc[:, :8].values, df_train.iloc[:,[8]]\n",
    "X_test, y_test = df_test.iloc[:, :8].values, df_test.iloc[:,[8]]\n",
    "X_one, y_one = df_one.iloc[:, :8].values, df_one.iloc[:,[8]]"
   ]
  },
  {
   "cell_type": "code",
   "execution_count": 80,
   "metadata": {},
   "outputs": [],
   "source": [
    "# Saving train and test into npz file\n",
    "np.savez('\\datwTestTrainSplit_train.npz', features=X_train, labels=y_train)\n",
    "np.savez('\\datwTestTrainSplit_test.npz', features=X_test, labels=y_test)\n",
    "np.savez('\\datwTestTrainSplit_one.npz', features=X_one, labels=y_one)"
   ]
  },
  {
   "cell_type": "markdown",
   "metadata": {},
   "source": [
    "# Load Model"
   ]
  },
  {
   "cell_type": "code",
   "execution_count": 170,
   "metadata": {},
   "outputs": [],
   "source": [
    "class Options(object):\n",
    "    def __init__(self, feat_d, hidden_d, batch_size, normalization, train, test, one) -> None:\n",
    "        self.feat_d = feat_d\n",
    "        self.hidden_d = hidden_d\n",
    "        self.sparse = False\n",
    "        self.batch_size = batch_size\n",
    "        self.normalization = normalization\n",
    "        self.tr = train\n",
    "        self.te = test\n",
    "        self.one = one"
   ]
  },
  {
   "cell_type": "code",
   "execution_count": 176,
   "metadata": {},
   "outputs": [],
   "source": [
    "opt = Options(feat_d = 8, hidden_d = 32, batch_size = 2048, normalization = True, \n",
    "              train = \"/Users/nelvis/Documents/R/GrowNet/Regression/ckpt/\\datwTestTrainSplit_train.npz\", \n",
    "              test = \"/Users/nelvis/Documents/R/GrowNet/Regression/ckpt/\\datwTestTrainSplit_test.npz\",\n",
    "              one = \"/Users/nelvis/Documents/R/GrowNet/data/datwTestTrainSplit_tr.npz\")"
   ]
  },
  {
   "cell_type": "code",
   "execution_count": 177,
   "metadata": {},
   "outputs": [
    {
     "name": "stdout",
     "output_type": "stream",
     "text": [
      "8\n",
      "8\n",
      "8\n"
     ]
    }
   ],
   "source": [
    "train = LibSVMRegData(opt.tr, opt.feat_d, opt.normalization)\n",
    "test = LibSVMRegData(opt.te, opt.feat_d, opt.normalization)\n",
    "one = LibSVMRegData(opt.one, opt.feat_d, opt.normalization)"
   ]
  },
  {
   "cell_type": "code",
   "execution_count": 178,
   "metadata": {},
   "outputs": [],
   "source": [
    "train_loader = DataLoader(train, opt.batch_size, shuffle=True, drop_last=False, num_workers=0)\n",
    "test_loader = DataLoader(test, opt.batch_size, shuffle=True, drop_last=False, num_workers=0)\n",
    "one_loader = DataLoader(one, opt.batch_size, shuffle=True, drop_last=False, num_workers=0)"
   ]
  },
  {
   "cell_type": "code",
   "execution_count": 179,
   "metadata": {},
   "outputs": [],
   "source": [
    "net_ensemble = DynamicNet.from_file(\"./datwTestTrainSplit_cls.pth\", lambda stage: MLP_2HL.get_model(stage, opt))"
   ]
  },
  {
   "cell_type": "code",
   "execution_count": 180,
   "metadata": {},
   "outputs": [],
   "source": [
    "net_ensemble.to_eval()"
   ]
  },
  {
   "cell_type": "code",
   "execution_count": 174,
   "metadata": {},
   "outputs": [],
   "source": [
    "def root_mse(net_ensemble, loader):\n",
    "    loss = 0\n",
    "    total = 0\n",
    "\n",
    "    for x, y in loader:\n",
    "        with torch.no_grad():\n",
    "            _, out = net_ensemble.forward(x)\n",
    "        y = y.cpu().numpy().reshape(len(y), 1)\n",
    "        out = out.cpu().numpy().reshape(len(y), 1)\n",
    "        loss += mean_squared_error(y, out)* len(y)\n",
    "        total += len(y)\n",
    "    return np.sqrt(loss / total)"
   ]
  },
  {
   "cell_type": "code",
   "execution_count": 181,
   "metadata": {},
   "outputs": [
    {
     "data": {
      "text/plain": [
       "7666172.336520171"
      ]
     },
     "execution_count": 181,
     "metadata": {},
     "output_type": "execute_result"
    }
   ],
   "source": [
    "root_mse(net_ensemble, one_loader)"
   ]
  },
  {
   "cell_type": "code",
   "execution_count": 130,
   "metadata": {},
   "outputs": [],
   "source": [
    "out = torch.empty(0)\n",
    "orig = torch.empty(0)\n",
    "\n",
    "for x, y in train_loader:\n",
    "    with torch.no_grad():\n",
    "            _, out_tmp = net_ensemble.forward(x)\n",
    "    out = torch.cat([out, out_tmp])\n",
    "    orig = torch.cat([orig, y])"
   ]
  },
  {
   "cell_type": "code",
   "execution_count": 142,
   "metadata": {},
   "outputs": [
    {
     "data": {
      "text/plain": [
       "array([484789.3   ,  29068.596 ,  35964.926 , ..., 630765.5   ,\n",
       "        62283.812 ,   1927.2223], dtype=float32)"
      ]
     },
     "execution_count": 142,
     "metadata": {},
     "output_type": "execute_result"
    }
   ],
   "source": [
    "orig.numpy().flatten()"
   ]
  },
  {
   "cell_type": "code",
   "execution_count": 143,
   "metadata": {},
   "outputs": [],
   "source": [
    "df_results = pd.DataFrame({'Original_Values' : orig.numpy().flatten(), 'Predictions' : out.numpy().flatten()})"
   ]
  },
  {
   "cell_type": "code",
   "execution_count": 145,
   "metadata": {},
   "outputs": [
    {
     "data": {
      "text/html": [
       "<div>\n",
       "<style scoped>\n",
       "    .dataframe tbody tr th:only-of-type {\n",
       "        vertical-align: middle;\n",
       "    }\n",
       "\n",
       "    .dataframe tbody tr th {\n",
       "        vertical-align: top;\n",
       "    }\n",
       "\n",
       "    .dataframe thead th {\n",
       "        text-align: right;\n",
       "    }\n",
       "</style>\n",
       "<table border=\"1\" class=\"dataframe\">\n",
       "  <thead>\n",
       "    <tr style=\"text-align: right;\">\n",
       "      <th></th>\n",
       "      <th>Original_Values</th>\n",
       "      <th>Predictions</th>\n",
       "    </tr>\n",
       "  </thead>\n",
       "  <tbody>\n",
       "    <tr>\n",
       "      <th>0</th>\n",
       "      <td>484789.312500</td>\n",
       "      <td>-12277146.00</td>\n",
       "    </tr>\n",
       "    <tr>\n",
       "      <th>1</th>\n",
       "      <td>29068.595703</td>\n",
       "      <td>6581229.00</td>\n",
       "    </tr>\n",
       "    <tr>\n",
       "      <th>2</th>\n",
       "      <td>35964.925781</td>\n",
       "      <td>-1721630.75</td>\n",
       "    </tr>\n",
       "    <tr>\n",
       "      <th>3</th>\n",
       "      <td>136629.531250</td>\n",
       "      <td>7238783.50</td>\n",
       "    </tr>\n",
       "    <tr>\n",
       "      <th>4</th>\n",
       "      <td>4010.083740</td>\n",
       "      <td>5038468.50</td>\n",
       "    </tr>\n",
       "    <tr>\n",
       "      <th>...</th>\n",
       "      <td>...</td>\n",
       "      <td>...</td>\n",
       "    </tr>\n",
       "    <tr>\n",
       "      <th>85608</th>\n",
       "      <td>5309.017090</td>\n",
       "      <td>-13150435.00</td>\n",
       "    </tr>\n",
       "    <tr>\n",
       "      <th>85609</th>\n",
       "      <td>12193.708008</td>\n",
       "      <td>7666482.50</td>\n",
       "    </tr>\n",
       "    <tr>\n",
       "      <th>85610</th>\n",
       "      <td>630765.500000</td>\n",
       "      <td>2245062.75</td>\n",
       "    </tr>\n",
       "    <tr>\n",
       "      <th>85611</th>\n",
       "      <td>62283.812500</td>\n",
       "      <td>7758845.00</td>\n",
       "    </tr>\n",
       "    <tr>\n",
       "      <th>85612</th>\n",
       "      <td>1927.222290</td>\n",
       "      <td>7772055.50</td>\n",
       "    </tr>\n",
       "  </tbody>\n",
       "</table>\n",
       "<p>85613 rows × 2 columns</p>\n",
       "</div>"
      ],
      "text/plain": [
       "       Original_Values  Predictions\n",
       "0        484789.312500 -12277146.00\n",
       "1         29068.595703   6581229.00\n",
       "2         35964.925781  -1721630.75\n",
       "3        136629.531250   7238783.50\n",
       "4          4010.083740   5038468.50\n",
       "...                ...          ...\n",
       "85608      5309.017090 -13150435.00\n",
       "85609     12193.708008   7666482.50\n",
       "85610    630765.500000   2245062.75\n",
       "85611     62283.812500   7758845.00\n",
       "85612      1927.222290   7772055.50\n",
       "\n",
       "[85613 rows x 2 columns]"
      ]
     },
     "execution_count": 145,
     "metadata": {},
     "output_type": "execute_result"
    }
   ],
   "source": [
    "df_results"
   ]
  },
  {
   "cell_type": "code",
   "execution_count": 124,
   "metadata": {},
   "outputs": [
    {
     "data": {
      "text/plain": [
       "torch.Size([85613])"
      ]
     },
     "execution_count": 124,
     "metadata": {},
     "output_type": "execute_result"
    }
   ],
   "source": [
    "out.shape"
   ]
  },
  {
   "cell_type": "code",
   "execution_count": 125,
   "metadata": {},
   "outputs": [
    {
     "data": {
      "text/plain": [
       "torch.Size([85613, 1])"
      ]
     },
     "execution_count": 125,
     "metadata": {},
     "output_type": "execute_result"
    }
   ],
   "source": [
    "orig.shape"
   ]
  },
  {
   "cell_type": "code",
   "execution_count": 126,
   "metadata": {},
   "outputs": [
    {
     "data": {
      "text/plain": [
       "(85613, 1)"
      ]
     },
     "execution_count": 126,
     "metadata": {},
     "output_type": "execute_result"
    }
   ],
   "source": [
    "y_train.shape"
   ]
  },
  {
   "cell_type": "markdown",
   "metadata": {},
   "source": [
    "# Load results from training"
   ]
  },
  {
   "cell_type": "code",
   "execution_count": 29,
   "metadata": {},
   "outputs": [],
   "source": [
    "training_results = np.load('/Users/nelvis/Documents/R/GrowNet/Regression/results/datwTestTrainSplit_rmse.npz')"
   ]
  },
  {
   "cell_type": "code",
   "execution_count": 39,
   "metadata": {},
   "outputs": [
    {
     "data": {
      "text/plain": [
       "array([[266753.62, 185097.88,      0.  ],\n",
       "       [266623.97, 185000.1 ,      0.  ],\n",
       "       [266328.2 , 184752.27,      0.  ],\n",
       "       [265836.53, 184337.92,      0.  ],\n",
       "       [264906.4 , 183530.72,      0.  ],\n",
       "       [264030.3 , 182802.86,      0.  ],\n",
       "       [262574.4 , 181622.38,      0.  ],\n",
       "       [261187.27, 180582.42,      0.  ],\n",
       "       [260015.52, 179691.61,      0.  ],\n",
       "       [255709.88, 176111.67,      0.  ],\n",
       "       [250062.03, 171962.92,      0.  ],\n",
       "       [250889.73, 172617.03,      0.  ],\n",
       "       [242953.5 , 166382.03,      0.  ],\n",
       "       [232219.  , 156184.23,      0.  ],\n",
       "       [224283.4 , 151828.38,      0.  ],\n",
       "       [213708.12, 144387.7 ,      0.  ],\n",
       "       [215110.75, 145047.89,      0.  ],\n",
       "       [208653.31, 140304.14,      0.  ],\n",
       "       [200601.95, 131433.23,      0.  ],\n",
       "       [199986.05, 133467.58,      0.  ]], dtype=float32)"
      ]
     },
     "execution_count": 39,
     "metadata": {},
     "output_type": "execute_result"
    }
   ],
   "source": [
    "training_results['rmse']"
   ]
  },
  {
   "cell_type": "code",
   "execution_count": null,
   "metadata": {},
   "outputs": [],
   "source": []
  }
 ],
 "metadata": {
  "kernelspec": {
   "display_name": "Python 3",
   "language": "python",
   "name": "python3"
  },
  "language_info": {
   "codemirror_mode": {
    "name": "ipython",
    "version": 3
   },
   "file_extension": ".py",
   "mimetype": "text/x-python",
   "name": "python",
   "nbconvert_exporter": "python",
   "pygments_lexer": "ipython3",
   "version": "3.9.1"
  }
 },
 "nbformat": 4,
 "nbformat_minor": 2
}
